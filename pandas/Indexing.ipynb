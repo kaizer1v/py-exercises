{
 "cells": [
  {
   "cell_type": "code",
   "execution_count": 3,
   "metadata": {
    "collapsed": false
   },
   "outputs": [
    {
     "data": {
      "text/plain": [
       "'/home/vivek/Documents/Projects/pandas'"
      ]
     },
     "execution_count": 3,
     "metadata": {},
     "output_type": "execute_result"
    }
   ],
   "source": [
    "%pwd"
   ]
  },
  {
   "cell_type": "code",
   "execution_count": 2,
   "metadata": {
    "collapsed": true
   },
   "outputs": [],
   "source": [
    "import pandas as pd\n",
    "import numpy as np"
   ]
  },
  {
   "cell_type": "markdown",
   "metadata": {},
   "source": [
    "# Basic Indexing Techniques"
   ]
  },
  {
   "cell_type": "code",
   "execution_count": 5,
   "metadata": {
    "collapsed": false
   },
   "outputs": [],
   "source": [
    "df = pd.DataFrame(np.random.randn(10, 3), columns=['first', 'second', 'third'])\n",
    "df['alphabets'] = list('abcdefghij')"
   ]
  },
  {
   "cell_type": "code",
   "execution_count": 6,
   "metadata": {
    "collapsed": false
   },
   "outputs": [
    {
     "data": {
      "text/html": [
       "<div>\n",
       "<table border=\"1\" class=\"dataframe\">\n",
       "  <thead>\n",
       "    <tr style=\"text-align: right;\">\n",
       "      <th></th>\n",
       "      <th>first</th>\n",
       "      <th>second</th>\n",
       "      <th>third</th>\n",
       "      <th>alphabets</th>\n",
       "    </tr>\n",
       "  </thead>\n",
       "  <tbody>\n",
       "    <tr>\n",
       "      <th>0</th>\n",
       "      <td>-0.094436</td>\n",
       "      <td>2.056755</td>\n",
       "      <td>-2.168884</td>\n",
       "      <td>a</td>\n",
       "    </tr>\n",
       "    <tr>\n",
       "      <th>2</th>\n",
       "      <td>0.910477</td>\n",
       "      <td>-0.592088</td>\n",
       "      <td>-0.674787</td>\n",
       "      <td>c</td>\n",
       "    </tr>\n",
       "    <tr>\n",
       "      <th>4</th>\n",
       "      <td>1.172892</td>\n",
       "      <td>-1.142578</td>\n",
       "      <td>-0.456884</td>\n",
       "      <td>e</td>\n",
       "    </tr>\n",
       "    <tr>\n",
       "      <th>6</th>\n",
       "      <td>0.722584</td>\n",
       "      <td>-0.227838</td>\n",
       "      <td>-0.881484</td>\n",
       "      <td>g</td>\n",
       "    </tr>\n",
       "    <tr>\n",
       "      <th>8</th>\n",
       "      <td>-0.538180</td>\n",
       "      <td>-0.833391</td>\n",
       "      <td>-0.895439</td>\n",
       "      <td>i</td>\n",
       "    </tr>\n",
       "  </tbody>\n",
       "</table>\n",
       "</div>"
      ],
      "text/plain": [
       "      first    second     third alphabets\n",
       "0 -0.094436  2.056755 -2.168884         a\n",
       "2  0.910477 -0.592088 -0.674787         c\n",
       "4  1.172892 -1.142578 -0.456884         e\n",
       "6  0.722584 -0.227838 -0.881484         g\n",
       "8 -0.538180 -0.833391 -0.895439         i"
      ]
     },
     "execution_count": 6,
     "metadata": {},
     "output_type": "execute_result"
    }
   ],
   "source": [
    "# When you no index, you can use numeric indices to get a specific row\n",
    "# You can use .ix property like so\n",
    "df.ix[5]\n",
    "\n",
    "# You can also use the .loc property like so\n",
    "df.loc[[5, 3, 7]]\n",
    "\n",
    "# You can also use .iloc, which is the same as the two above like so\n",
    "df.iloc[0:10:2]\n",
    "\n",
    "# All these indexing techniques are very much like using the list operations on python lists\n",
    "# But there are difference, here is what and this will make sense whenever the index column is a str type of column\n",
    "\n",
    "## - .ix can take either numberic or any value of the index column\n",
    "## - .loc will only take a value from the index column\n",
    "## - .iloc will only take numberic index i.e. 0 to n\n",
    "\n",
    "# To simplify = whenever you want to use str indexing, use .loc\n",
    "#  and incase of numeric default indexes i.e. 0 to n, use the .iloc"
   ]
  },
  {
   "cell_type": "code",
   "execution_count": 7,
   "metadata": {
    "collapsed": false
   },
   "outputs": [],
   "source": [
    "df.reset_index(inplace=True)\n",
    "df.set_index('first', inplace=True)"
   ]
  },
  {
   "cell_type": "code",
   "execution_count": 8,
   "metadata": {
    "collapsed": false
   },
   "outputs": [
    {
     "data": {
      "text/plain": [
       "index               4\n",
       "second       -1.14258\n",
       "third       -0.456884\n",
       "alphabets           e\n",
       "Name: 1.17289158796, dtype: object"
      ]
     },
     "execution_count": 8,
     "metadata": {},
     "output_type": "execute_result"
    }
   ],
   "source": [
    "df.iloc[4]"
   ]
  },
  {
   "cell_type": "code",
   "execution_count": 9,
   "metadata": {
    "collapsed": false
   },
   "outputs": [],
   "source": [
    "df.reset_index(inplace=True)\n",
    "df.set_index('alphabets', inplace=True)"
   ]
  },
  {
   "cell_type": "code",
   "execution_count": 10,
   "metadata": {
    "collapsed": false
   },
   "outputs": [
    {
     "data": {
      "text/html": [
       "<div>\n",
       "<table border=\"1\" class=\"dataframe\">\n",
       "  <thead>\n",
       "    <tr style=\"text-align: right;\">\n",
       "      <th></th>\n",
       "      <th>first</th>\n",
       "      <th>index</th>\n",
       "      <th>second</th>\n",
       "      <th>third</th>\n",
       "    </tr>\n",
       "    <tr>\n",
       "      <th>alphabets</th>\n",
       "      <th></th>\n",
       "      <th></th>\n",
       "      <th></th>\n",
       "      <th></th>\n",
       "    </tr>\n",
       "  </thead>\n",
       "  <tbody>\n",
       "    <tr>\n",
       "      <th>a</th>\n",
       "      <td>-0.094436</td>\n",
       "      <td>0</td>\n",
       "      <td>2.056755</td>\n",
       "      <td>-2.168884</td>\n",
       "    </tr>\n",
       "    <tr>\n",
       "      <th>j</th>\n",
       "      <td>2.837803</td>\n",
       "      <td>9</td>\n",
       "      <td>1.407676</td>\n",
       "      <td>0.844965</td>\n",
       "    </tr>\n",
       "  </tbody>\n",
       "</table>\n",
       "</div>"
      ],
      "text/plain": [
       "              first  index    second     third\n",
       "alphabets                                     \n",
       "a         -0.094436      0  2.056755 -2.168884\n",
       "j          2.837803      9  1.407676  0.844965"
      ]
     },
     "execution_count": 10,
     "metadata": {},
     "output_type": "execute_result"
    }
   ],
   "source": [
    "# You can call multiple rows like so\n",
    "df.loc[['a', 'j']]"
   ]
  },
  {
   "cell_type": "markdown",
   "metadata": {},
   "source": [
    "# Date Indexing"
   ]
  },
  {
   "cell_type": "code",
   "execution_count": 11,
   "metadata": {
    "collapsed": false
   },
   "outputs": [],
   "source": [
    "rows = 10\n",
    "columns = ['A', 'B', 'C', 'D']\n",
    "\n",
    "dates = pd.date_range('1/1/2016', periods=rows)\n",
    "df_dates = pd.DataFrame(np.random.randn(rows, len(columns)), index=dates, columns=columns)"
   ]
  },
  {
   "cell_type": "code",
   "execution_count": 12,
   "metadata": {
    "collapsed": false
   },
   "outputs": [
    {
     "data": {
      "text/html": [
       "<div>\n",
       "<table border=\"1\" class=\"dataframe\">\n",
       "  <thead>\n",
       "    <tr style=\"text-align: right;\">\n",
       "      <th></th>\n",
       "      <th>A</th>\n",
       "      <th>B</th>\n",
       "      <th>C</th>\n",
       "      <th>D</th>\n",
       "    </tr>\n",
       "  </thead>\n",
       "  <tbody>\n",
       "    <tr>\n",
       "      <th>2016-01-01</th>\n",
       "      <td>-0.001779</td>\n",
       "      <td>0.474214</td>\n",
       "      <td>-0.107257</td>\n",
       "      <td>-0.183005</td>\n",
       "    </tr>\n",
       "    <tr>\n",
       "      <th>2016-01-02</th>\n",
       "      <td>-1.407387</td>\n",
       "      <td>-0.359448</td>\n",
       "      <td>-0.930420</td>\n",
       "      <td>0.204374</td>\n",
       "    </tr>\n",
       "    <tr>\n",
       "      <th>2016-01-03</th>\n",
       "      <td>0.646236</td>\n",
       "      <td>0.904199</td>\n",
       "      <td>-0.400640</td>\n",
       "      <td>0.119176</td>\n",
       "    </tr>\n",
       "    <tr>\n",
       "      <th>2016-01-04</th>\n",
       "      <td>0.677593</td>\n",
       "      <td>1.008918</td>\n",
       "      <td>1.047107</td>\n",
       "      <td>-1.951302</td>\n",
       "    </tr>\n",
       "    <tr>\n",
       "      <th>2016-01-05</th>\n",
       "      <td>0.266513</td>\n",
       "      <td>1.575322</td>\n",
       "      <td>-0.580870</td>\n",
       "      <td>-0.912605</td>\n",
       "    </tr>\n",
       "    <tr>\n",
       "      <th>2016-01-06</th>\n",
       "      <td>-1.709773</td>\n",
       "      <td>1.997328</td>\n",
       "      <td>-0.516335</td>\n",
       "      <td>-0.372171</td>\n",
       "    </tr>\n",
       "    <tr>\n",
       "      <th>2016-01-07</th>\n",
       "      <td>-0.030324</td>\n",
       "      <td>-1.123634</td>\n",
       "      <td>0.818244</td>\n",
       "      <td>-0.087174</td>\n",
       "    </tr>\n",
       "    <tr>\n",
       "      <th>2016-01-08</th>\n",
       "      <td>-0.094829</td>\n",
       "      <td>1.557835</td>\n",
       "      <td>-1.161468</td>\n",
       "      <td>-0.554727</td>\n",
       "    </tr>\n",
       "    <tr>\n",
       "      <th>2016-01-09</th>\n",
       "      <td>0.272999</td>\n",
       "      <td>0.965043</td>\n",
       "      <td>0.926410</td>\n",
       "      <td>-1.397614</td>\n",
       "    </tr>\n",
       "    <tr>\n",
       "      <th>2016-01-10</th>\n",
       "      <td>-0.440957</td>\n",
       "      <td>0.612414</td>\n",
       "      <td>-1.514343</td>\n",
       "      <td>-0.937468</td>\n",
       "    </tr>\n",
       "  </tbody>\n",
       "</table>\n",
       "</div>"
      ],
      "text/plain": [
       "                   A         B         C         D\n",
       "2016-01-01 -0.001779  0.474214 -0.107257 -0.183005\n",
       "2016-01-02 -1.407387 -0.359448 -0.930420  0.204374\n",
       "2016-01-03  0.646236  0.904199 -0.400640  0.119176\n",
       "2016-01-04  0.677593  1.008918  1.047107 -1.951302\n",
       "2016-01-05  0.266513  1.575322 -0.580870 -0.912605\n",
       "2016-01-06 -1.709773  1.997328 -0.516335 -0.372171\n",
       "2016-01-07 -0.030324 -1.123634  0.818244 -0.087174\n",
       "2016-01-08 -0.094829  1.557835 -1.161468 -0.554727\n",
       "2016-01-09  0.272999  0.965043  0.926410 -1.397614\n",
       "2016-01-10 -0.440957  0.612414 -1.514343 -0.937468"
      ]
     },
     "execution_count": 12,
     "metadata": {},
     "output_type": "execute_result"
    }
   ],
   "source": [
    "df_dates"
   ]
  },
  {
   "cell_type": "code",
   "execution_count": 13,
   "metadata": {
    "collapsed": false
   },
   "outputs": [
    {
     "data": {
      "text/plain": [
       "pandas.tseries.index.DatetimeIndex"
      ]
     },
     "execution_count": 13,
     "metadata": {},
     "output_type": "execute_result"
    }
   ],
   "source": [
    "type(df_dates.index)"
   ]
  },
  {
   "cell_type": "code",
   "execution_count": null,
   "metadata": {
    "collapsed": true
   },
   "outputs": [],
   "source": []
  },
  {
   "cell_type": "markdown",
   "metadata": {},
   "source": [
    "# Multi-indexing Techniques"
   ]
  },
  {
   "cell_type": "code",
   "execution_count": 14,
   "metadata": {
    "collapsed": false
   },
   "outputs": [
    {
     "data": {
      "text/plain": [
       "first  second\n",
       "bar    one       0.785469\n",
       "       two      -0.126358\n",
       "baz    one      -0.360774\n",
       "       two       1.163495\n",
       "foo    one      -0.899611\n",
       "       two      -1.712077\n",
       "qux    one      -0.674545\n",
       "       two       1.030811\n",
       "dtype: float64"
      ]
     },
     "execution_count": 14,
     "metadata": {},
     "output_type": "execute_result"
    }
   ],
   "source": [
    "arrays = [['bar', 'bar', 'baz', 'baz', 'foo', 'foo', 'qux', 'qux'],\n",
    "          ['one', 'two', 'one', 'two', 'one', 'two', 'one', 'two']]\n",
    "\n",
    "# In order to create tuples, you have to make sure both arrays are of the same length\n",
    "tuples = list(zip(*arrays))\n",
    "# Once you have the tuples ready, generate index from tuples\n",
    "index = pd.MultiIndex.from_tuples(tuples, names=['first', 'second'])\n",
    "# Create a series with the index\n",
    "pd.Series(np.random.randn(len(arrays[0])), index=index)"
   ]
  },
  {
   "cell_type": "code",
   "execution_count": 15,
   "metadata": {
    "collapsed": false
   },
   "outputs": [
    {
     "data": {
      "text/html": [
       "<div>\n",
       "<table border=\"1\" class=\"dataframe\">\n",
       "  <thead>\n",
       "    <tr style=\"text-align: right;\">\n",
       "      <th></th>\n",
       "      <th></th>\n",
       "      <th>0</th>\n",
       "      <th>1</th>\n",
       "      <th>2</th>\n",
       "      <th>3</th>\n",
       "    </tr>\n",
       "  </thead>\n",
       "  <tbody>\n",
       "    <tr>\n",
       "      <th rowspan=\"2\" valign=\"top\">bar</th>\n",
       "      <th>one</th>\n",
       "      <td>1.090998</td>\n",
       "      <td>0.440035</td>\n",
       "      <td>0.210136</td>\n",
       "      <td>0.237818</td>\n",
       "    </tr>\n",
       "    <tr>\n",
       "      <th>two</th>\n",
       "      <td>0.531247</td>\n",
       "      <td>-0.120463</td>\n",
       "      <td>1.010341</td>\n",
       "      <td>0.052884</td>\n",
       "    </tr>\n",
       "    <tr>\n",
       "      <th rowspan=\"2\" valign=\"top\">baz</th>\n",
       "      <th>one</th>\n",
       "      <td>0.086243</td>\n",
       "      <td>-0.433254</td>\n",
       "      <td>0.390547</td>\n",
       "      <td>-0.534293</td>\n",
       "    </tr>\n",
       "    <tr>\n",
       "      <th>two</th>\n",
       "      <td>-0.617314</td>\n",
       "      <td>1.147554</td>\n",
       "      <td>-1.071946</td>\n",
       "      <td>-0.852245</td>\n",
       "    </tr>\n",
       "    <tr>\n",
       "      <th rowspan=\"2\" valign=\"top\">foo</th>\n",
       "      <th>one</th>\n",
       "      <td>-0.172432</td>\n",
       "      <td>1.378473</td>\n",
       "      <td>-1.836638</td>\n",
       "      <td>0.170810</td>\n",
       "    </tr>\n",
       "    <tr>\n",
       "      <th>two</th>\n",
       "      <td>-2.050112</td>\n",
       "      <td>-0.711727</td>\n",
       "      <td>0.552812</td>\n",
       "      <td>2.058440</td>\n",
       "    </tr>\n",
       "    <tr>\n",
       "      <th rowspan=\"2\" valign=\"top\">qux</th>\n",
       "      <th>one</th>\n",
       "      <td>0.954183</td>\n",
       "      <td>1.728802</td>\n",
       "      <td>0.811220</td>\n",
       "      <td>0.223970</td>\n",
       "    </tr>\n",
       "    <tr>\n",
       "      <th>two</th>\n",
       "      <td>0.139435</td>\n",
       "      <td>0.825081</td>\n",
       "      <td>-0.260215</td>\n",
       "      <td>1.581042</td>\n",
       "    </tr>\n",
       "  </tbody>\n",
       "</table>\n",
       "</div>"
      ],
      "text/plain": [
       "                0         1         2         3\n",
       "bar one  1.090998  0.440035  0.210136  0.237818\n",
       "    two  0.531247 -0.120463  1.010341  0.052884\n",
       "baz one  0.086243 -0.433254  0.390547 -0.534293\n",
       "    two -0.617314  1.147554 -1.071946 -0.852245\n",
       "foo one -0.172432  1.378473 -1.836638  0.170810\n",
       "    two -2.050112 -0.711727  0.552812  2.058440\n",
       "qux one  0.954183  1.728802  0.811220  0.223970\n",
       "    two  0.139435  0.825081 -0.260215  1.581042"
      ]
     },
     "execution_count": 15,
     "metadata": {},
     "output_type": "execute_result"
    }
   ],
   "source": [
    "# Also, you can create multiple columns of data by adding another parameter to the np.random.randn function\n",
    "##  but in which case you will have to create a dataframe instaed of a Series, like so...\n",
    "pd.DataFrame(np.random.randn(8, 4), index=arrays)\n",
    "\n",
    "\n",
    "# Here order of the sub-arrays also matter within the 'arrays' variable"
   ]
  },
  {
   "cell_type": "code",
   "execution_count": 16,
   "metadata": {
    "collapsed": false
   },
   "outputs": [
    {
     "data": {
      "text/html": [
       "<div>\n",
       "<table border=\"1\" class=\"dataframe\">\n",
       "  <thead>\n",
       "    <tr>\n",
       "      <th></th>\n",
       "      <th colspan=\"2\" halign=\"left\">bar</th>\n",
       "      <th colspan=\"2\" halign=\"left\">baz</th>\n",
       "      <th colspan=\"2\" halign=\"left\">foo</th>\n",
       "      <th colspan=\"2\" halign=\"left\">qux</th>\n",
       "    </tr>\n",
       "    <tr>\n",
       "      <th></th>\n",
       "      <th>one</th>\n",
       "      <th>two</th>\n",
       "      <th>one</th>\n",
       "      <th>two</th>\n",
       "      <th>one</th>\n",
       "      <th>two</th>\n",
       "      <th>one</th>\n",
       "      <th>two</th>\n",
       "    </tr>\n",
       "  </thead>\n",
       "  <tbody>\n",
       "    <tr>\n",
       "      <th>A</th>\n",
       "      <td>-0.461102</td>\n",
       "      <td>1.309161</td>\n",
       "      <td>-1.562988</td>\n",
       "      <td>-0.877002</td>\n",
       "      <td>1.637179</td>\n",
       "      <td>-1.138206</td>\n",
       "      <td>0.394045</td>\n",
       "      <td>0.238285</td>\n",
       "    </tr>\n",
       "    <tr>\n",
       "      <th>B</th>\n",
       "      <td>0.727188</td>\n",
       "      <td>-0.234886</td>\n",
       "      <td>-0.487778</td>\n",
       "      <td>1.665635</td>\n",
       "      <td>1.258260</td>\n",
       "      <td>-0.630219</td>\n",
       "      <td>-0.985442</td>\n",
       "      <td>0.832004</td>\n",
       "    </tr>\n",
       "    <tr>\n",
       "      <th>C</th>\n",
       "      <td>1.961256</td>\n",
       "      <td>-0.854996</td>\n",
       "      <td>-1.225799</td>\n",
       "      <td>-0.689505</td>\n",
       "      <td>-1.187653</td>\n",
       "      <td>-0.641681</td>\n",
       "      <td>0.012988</td>\n",
       "      <td>0.210172</td>\n",
       "    </tr>\n",
       "  </tbody>\n",
       "</table>\n",
       "</div>"
      ],
      "text/plain": [
       "        bar                 baz                 foo                 qux  \\\n",
       "        one       two       one       two       one       two       one   \n",
       "A -0.461102  1.309161 -1.562988 -0.877002  1.637179 -1.138206  0.394045   \n",
       "B  0.727188 -0.234886 -0.487778  1.665635  1.258260 -0.630219 -0.985442   \n",
       "C  1.961256 -0.854996 -1.225799 -0.689505 -1.187653 -0.641681  0.012988   \n",
       "\n",
       "             \n",
       "        two  \n",
       "A  0.238285  \n",
       "B  0.832004  \n",
       "C  0.210172  "
      ]
     },
     "execution_count": 16,
     "metadata": {},
     "output_type": "execute_result"
    }
   ],
   "source": [
    "complex_df = pd.DataFrame(np.random.randn(3, 8), index=['A', 'B', 'C'], columns=arrays)\n",
    "complex_df"
   ]
  },
  {
   "cell_type": "code",
   "execution_count": 17,
   "metadata": {
    "collapsed": false
   },
   "outputs": [
    {
     "data": {
      "text/plain": [
       "FrozenList([['bar', 'baz', 'foo', 'qux'], ['one', 'two']])"
      ]
     },
     "execution_count": 17,
     "metadata": {},
     "output_type": "execute_result"
    }
   ],
   "source": [
    "complex_df.columns.levels"
   ]
  },
  {
   "cell_type": "code",
   "execution_count": 18,
   "metadata": {
    "collapsed": false
   },
   "outputs": [
    {
     "data": {
      "text/plain": [
       "[('bar', 'one'),\n",
       " ('bar', 'two'),\n",
       " ('baz', 'one'),\n",
       " ('baz', 'two'),\n",
       " ('foo', 'one'),\n",
       " ('foo', 'two'),\n",
       " ('qux', 'one'),\n",
       " ('qux', 'two')]"
      ]
     },
     "execution_count": 18,
     "metadata": {},
     "output_type": "execute_result"
    }
   ],
   "source": [
    "tuples"
   ]
  },
  {
   "cell_type": "code",
   "execution_count": 19,
   "metadata": {
    "collapsed": false
   },
   "outputs": [
    {
     "data": {
      "text/html": [
       "<div>\n",
       "<table border=\"1\" class=\"dataframe\">\n",
       "  <thead>\n",
       "    <tr style=\"text-align: right;\">\n",
       "      <th></th>\n",
       "      <th>0</th>\n",
       "      <th>1</th>\n",
       "    </tr>\n",
       "  </thead>\n",
       "  <tbody>\n",
       "    <tr>\n",
       "      <th>(bar, one)</th>\n",
       "      <td>0.630339</td>\n",
       "      <td>0.258295</td>\n",
       "    </tr>\n",
       "    <tr>\n",
       "      <th>(bar, two)</th>\n",
       "      <td>0.199821</td>\n",
       "      <td>-1.614464</td>\n",
       "    </tr>\n",
       "    <tr>\n",
       "      <th>(baz, one)</th>\n",
       "      <td>-0.816744</td>\n",
       "      <td>-1.279449</td>\n",
       "    </tr>\n",
       "    <tr>\n",
       "      <th>(baz, two)</th>\n",
       "      <td>0.279139</td>\n",
       "      <td>-0.175089</td>\n",
       "    </tr>\n",
       "    <tr>\n",
       "      <th>(foo, one)</th>\n",
       "      <td>-0.637521</td>\n",
       "      <td>-0.628924</td>\n",
       "    </tr>\n",
       "    <tr>\n",
       "      <th>(foo, two)</th>\n",
       "      <td>0.044520</td>\n",
       "      <td>1.762567</td>\n",
       "    </tr>\n",
       "    <tr>\n",
       "      <th>(qux, one)</th>\n",
       "      <td>-0.723407</td>\n",
       "      <td>-1.985872</td>\n",
       "    </tr>\n",
       "    <tr>\n",
       "      <th>(qux, two)</th>\n",
       "      <td>-0.836941</td>\n",
       "      <td>-0.784032</td>\n",
       "    </tr>\n",
       "  </tbody>\n",
       "</table>\n",
       "</div>"
      ],
      "text/plain": [
       "                   0         1\n",
       "(bar, one)  0.630339  0.258295\n",
       "(bar, two)  0.199821 -1.614464\n",
       "(baz, one) -0.816744 -1.279449\n",
       "(baz, two)  0.279139 -0.175089\n",
       "(foo, one) -0.637521 -0.628924\n",
       "(foo, two)  0.044520  1.762567\n",
       "(qux, one) -0.723407 -1.985872\n",
       "(qux, two) -0.836941 -0.784032"
      ]
     },
     "execution_count": 19,
     "metadata": {},
     "output_type": "execute_result"
    }
   ],
   "source": [
    "df_using_tuples = pd.DataFrame(np.random.randn(len(tuples), len(tuples[0])), index=tuples)\n",
    "df_using_tuples"
   ]
  },
  {
   "cell_type": "code",
   "execution_count": null,
   "metadata": {
    "collapsed": true
   },
   "outputs": [],
   "source": []
  },
  {
   "cell_type": "code",
   "execution_count": null,
   "metadata": {
    "collapsed": true
   },
   "outputs": [],
   "source": []
  },
  {
   "cell_type": "code",
   "execution_count": 20,
   "metadata": {
    "collapsed": false
   },
   "outputs": [
    {
     "data": {
      "text/plain": [
       "first  second\n",
       "bar    one       0.285908\n",
       "       two      -0.064803\n",
       "baz    one      -0.321029\n",
       "       two       0.481149\n",
       "foo    one       0.634045\n",
       "       two      -0.452175\n",
       "qux    one      -0.392703\n",
       "       two      -0.609260\n",
       "dtype: float64"
      ]
     },
     "execution_count": 20,
     "metadata": {},
     "output_type": "execute_result"
    }
   ],
   "source": [
    "# similarily, you can create a multi-index using a product where the length of 2 arrays don't need to be of different lengths\n",
    "iterables = [['bar', 'baz', 'foo', 'qux'], ['one', 'two']]\n",
    "prod = pd.MultiIndex.from_product(iterables, names=['first', 'second'])\n",
    "\n",
    "pd.Series(np.random.randn(len(iterables[0]) * len(iterables[1])), index=prod)"
   ]
  },
  {
   "cell_type": "code",
   "execution_count": 21,
   "metadata": {
    "collapsed": false
   },
   "outputs": [
    {
     "data": {
      "text/plain": [
       "MultiIndex(levels=[['bar', 'baz', 'foo', 'qux'], ['one', 'two']],\n",
       "           labels=[[0, 0, 1, 1, 2, 2, 3, 3], [0, 1, 0, 1, 0, 1, 0, 1]],\n",
       "           names=['first', 'second'])"
      ]
     },
     "execution_count": 21,
     "metadata": {},
     "output_type": "execute_result"
    }
   ],
   "source": [
    "index = pd.MultiIndex.from_tuples(tuples, names=['first', 'second'])\n",
    "index"
   ]
  },
  {
   "cell_type": "code",
   "execution_count": 22,
   "metadata": {
    "collapsed": false
   },
   "outputs": [
    {
     "data": {
      "text/plain": [
       "first  second\n",
       "bar    one      -0.051610\n",
       "       two       0.180586\n",
       "baz    one      -1.005825\n",
       "       two      -0.413576\n",
       "foo    one       0.875953\n",
       "       two       1.110857\n",
       "qux    one      -0.450947\n",
       "       two       0.592531\n",
       "dtype: float64"
      ]
     },
     "execution_count": 22,
     "metadata": {},
     "output_type": "execute_result"
    }
   ],
   "source": [
    "s = pd.Series(np.random.randn(8), index=index)\n",
    "s"
   ]
  },
  {
   "cell_type": "code",
   "execution_count": null,
   "metadata": {
    "collapsed": false
   },
   "outputs": [],
   "source": []
  },
  {
   "cell_type": "markdown",
   "metadata": {
    "collapsed": true
   },
   "source": [
    "## You can use the .loc method to select complex conditional data"
   ]
  },
  {
   "cell_type": "code",
   "execution_count": 8,
   "metadata": {
    "collapsed": false
   },
   "outputs": [],
   "source": [
    "df1 = pd.DataFrame(np.random.rand(6, 4), columns=list('ABCD'), index=list('abcdef'))"
   ]
  },
  {
   "cell_type": "code",
   "execution_count": 9,
   "metadata": {
    "collapsed": false
   },
   "outputs": [
    {
     "data": {
      "text/html": [
       "<div>\n",
       "<table border=\"1\" class=\"dataframe\">\n",
       "  <thead>\n",
       "    <tr style=\"text-align: right;\">\n",
       "      <th></th>\n",
       "      <th>A</th>\n",
       "      <th>B</th>\n",
       "      <th>C</th>\n",
       "      <th>D</th>\n",
       "    </tr>\n",
       "  </thead>\n",
       "  <tbody>\n",
       "    <tr>\n",
       "      <th>a</th>\n",
       "      <td>0.846315</td>\n",
       "      <td>0.919258</td>\n",
       "      <td>0.772414</td>\n",
       "      <td>0.905809</td>\n",
       "    </tr>\n",
       "    <tr>\n",
       "      <th>b</th>\n",
       "      <td>0.510285</td>\n",
       "      <td>0.281321</td>\n",
       "      <td>0.292912</td>\n",
       "      <td>0.445649</td>\n",
       "    </tr>\n",
       "    <tr>\n",
       "      <th>c</th>\n",
       "      <td>0.345967</td>\n",
       "      <td>0.664791</td>\n",
       "      <td>0.093477</td>\n",
       "      <td>0.999455</td>\n",
       "    </tr>\n",
       "    <tr>\n",
       "      <th>d</th>\n",
       "      <td>0.962213</td>\n",
       "      <td>0.993047</td>\n",
       "      <td>0.603140</td>\n",
       "      <td>0.692149</td>\n",
       "    </tr>\n",
       "    <tr>\n",
       "      <th>e</th>\n",
       "      <td>0.840637</td>\n",
       "      <td>0.715874</td>\n",
       "      <td>0.443643</td>\n",
       "      <td>0.724201</td>\n",
       "    </tr>\n",
       "    <tr>\n",
       "      <th>f</th>\n",
       "      <td>0.576740</td>\n",
       "      <td>0.266072</td>\n",
       "      <td>0.696912</td>\n",
       "      <td>0.031046</td>\n",
       "    </tr>\n",
       "  </tbody>\n",
       "</table>\n",
       "</div>"
      ],
      "text/plain": [
       "          A         B         C         D\n",
       "a  0.846315  0.919258  0.772414  0.905809\n",
       "b  0.510285  0.281321  0.292912  0.445649\n",
       "c  0.345967  0.664791  0.093477  0.999455\n",
       "d  0.962213  0.993047  0.603140  0.692149\n",
       "e  0.840637  0.715874  0.443643  0.724201\n",
       "f  0.576740  0.266072  0.696912  0.031046"
      ]
     },
     "execution_count": 9,
     "metadata": {},
     "output_type": "execute_result"
    }
   ],
   "source": [
    "df1"
   ]
  },
  {
   "cell_type": "code",
   "execution_count": 13,
   "metadata": {
    "collapsed": false
   },
   "outputs": [
    {
     "data": {
      "text/html": [
       "<div>\n",
       "<table border=\"1\" class=\"dataframe\">\n",
       "  <thead>\n",
       "    <tr style=\"text-align: right;\">\n",
       "      <th></th>\n",
       "      <th>A</th>\n",
       "      <th>B</th>\n",
       "    </tr>\n",
       "  </thead>\n",
       "  <tbody>\n",
       "    <tr>\n",
       "      <th>a</th>\n",
       "      <td>0.846315</td>\n",
       "      <td>0.919258</td>\n",
       "    </tr>\n",
       "    <tr>\n",
       "      <th>d</th>\n",
       "      <td>0.962213</td>\n",
       "      <td>0.993047</td>\n",
       "    </tr>\n",
       "    <tr>\n",
       "      <th>e</th>\n",
       "      <td>0.840637</td>\n",
       "      <td>0.715874</td>\n",
       "    </tr>\n",
       "  </tbody>\n",
       "</table>\n",
       "</div>"
      ],
      "text/plain": [
       "          A         B\n",
       "a  0.846315  0.919258\n",
       "d  0.962213  0.993047\n",
       "e  0.840637  0.715874"
      ]
     },
     "execution_count": 13,
     "metadata": {},
     "output_type": "execute_result"
    }
   ],
   "source": [
    "## CHECK THIS OUT\n",
    "# You are basically doing the following\n",
    "##    SELECT df1.A, df1.B from df1 WHERE A > 0.7\n",
    "df1.loc[lambda df: df['A'] > 0.7, [\"A\", \"B\"]]"
   ]
  },
  {
   "cell_type": "code",
   "execution_count": 17,
   "metadata": {
    "collapsed": false
   },
   "outputs": [
    {
     "data": {
      "text/html": [
       "<div>\n",
       "<table border=\"1\" class=\"dataframe\">\n",
       "  <thead>\n",
       "    <tr style=\"text-align: right;\">\n",
       "      <th></th>\n",
       "      <th>A</th>\n",
       "      <th>B</th>\n",
       "      <th>C</th>\n",
       "      <th>D</th>\n",
       "    </tr>\n",
       "  </thead>\n",
       "  <tbody>\n",
       "    <tr>\n",
       "      <th>c</th>\n",
       "      <td>0.345967</td>\n",
       "      <td>0.664791</td>\n",
       "      <td>0.093477</td>\n",
       "      <td>0.999455</td>\n",
       "    </tr>\n",
       "  </tbody>\n",
       "</table>\n",
       "</div>"
      ],
      "text/plain": [
       "          A         B         C         D\n",
       "c  0.345967  0.664791  0.093477  0.999455"
      ]
     },
     "execution_count": 17,
     "metadata": {},
     "output_type": "execute_result"
    }
   ],
   "source": [
    "##    SELECT * FROM df1 WHERE df1.A < 0.5\n",
    "df1.loc[lambda df: df['A'] <= 0.5]"
   ]
  },
  {
   "cell_type": "code",
   "execution_count": 19,
   "metadata": {
    "collapsed": false
   },
   "outputs": [
    {
     "data": {
      "text/html": [
       "<div>\n",
       "<table border=\"1\" class=\"dataframe\">\n",
       "  <thead>\n",
       "    <tr style=\"text-align: right;\">\n",
       "      <th></th>\n",
       "      <th>A</th>\n",
       "      <th>B</th>\n",
       "    </tr>\n",
       "  </thead>\n",
       "  <tbody>\n",
       "    <tr>\n",
       "      <th>a</th>\n",
       "      <td>0.846315</td>\n",
       "      <td>0.919258</td>\n",
       "    </tr>\n",
       "    <tr>\n",
       "      <th>b</th>\n",
       "      <td>0.510285</td>\n",
       "      <td>0.281321</td>\n",
       "    </tr>\n",
       "    <tr>\n",
       "      <th>c</th>\n",
       "      <td>0.345967</td>\n",
       "      <td>0.664791</td>\n",
       "    </tr>\n",
       "    <tr>\n",
       "      <th>d</th>\n",
       "      <td>0.962213</td>\n",
       "      <td>0.993047</td>\n",
       "    </tr>\n",
       "    <tr>\n",
       "      <th>e</th>\n",
       "      <td>0.840637</td>\n",
       "      <td>0.715874</td>\n",
       "    </tr>\n",
       "    <tr>\n",
       "      <th>f</th>\n",
       "      <td>0.576740</td>\n",
       "      <td>0.266072</td>\n",
       "    </tr>\n",
       "  </tbody>\n",
       "</table>\n",
       "</div>"
      ],
      "text/plain": [
       "          A         B\n",
       "a  0.846315  0.919258\n",
       "b  0.510285  0.281321\n",
       "c  0.345967  0.664791\n",
       "d  0.962213  0.993047\n",
       "e  0.840637  0.715874\n",
       "f  0.576740  0.266072"
      ]
     },
     "execution_count": 19,
     "metadata": {},
     "output_type": "execute_result"
    }
   ],
   "source": [
    "# Similarly, you can also select all rows but conditional columns like so\n",
    "df1.loc[:, lambda df: [\"A\", \"B\"]]\n",
    "## SELECT df1.A, df1.B FROM df1"
   ]
  },
  {
   "cell_type": "code",
   "execution_count": 27,
   "metadata": {
    "collapsed": false
   },
   "outputs": [
    {
     "data": {
      "text/html": [
       "<div>\n",
       "<table border=\"1\" class=\"dataframe\">\n",
       "  <thead>\n",
       "    <tr style=\"text-align: right;\">\n",
       "      <th></th>\n",
       "      <th>A</th>\n",
       "      <th>B</th>\n",
       "      <th>C</th>\n",
       "      <th>D</th>\n",
       "    </tr>\n",
       "  </thead>\n",
       "  <tbody>\n",
       "    <tr>\n",
       "      <th>a</th>\n",
       "      <td>0.846315</td>\n",
       "      <td>0.919258</td>\n",
       "      <td>0.772414</td>\n",
       "      <td>0.905809</td>\n",
       "    </tr>\n",
       "    <tr>\n",
       "      <th>b</th>\n",
       "      <td>0.510285</td>\n",
       "      <td>0.281321</td>\n",
       "      <td>0.292912</td>\n",
       "      <td>0.445649</td>\n",
       "    </tr>\n",
       "  </tbody>\n",
       "</table>\n",
       "</div>"
      ],
      "text/plain": [
       "          A         B         C         D\n",
       "a  0.846315  0.919258  0.772414  0.905809\n",
       "b  0.510285  0.281321  0.292912  0.445649"
      ]
     },
     "execution_count": 27,
     "metadata": {},
     "output_type": "execute_result"
    }
   ],
   "source": [
    "df1.sample(n=2, replace=False)"
   ]
  },
  {
   "cell_type": "code",
   "execution_count": 28,
   "metadata": {
    "collapsed": false
   },
   "outputs": [
    {
     "data": {
      "text/html": [
       "<div>\n",
       "<table border=\"1\" class=\"dataframe\">\n",
       "  <thead>\n",
       "    <tr style=\"text-align: right;\">\n",
       "      <th></th>\n",
       "      <th>A</th>\n",
       "      <th>B</th>\n",
       "      <th>C</th>\n",
       "      <th>D</th>\n",
       "    </tr>\n",
       "  </thead>\n",
       "  <tbody>\n",
       "    <tr>\n",
       "      <th>a</th>\n",
       "      <td>0.846315</td>\n",
       "      <td>0.919258</td>\n",
       "      <td>0.772414</td>\n",
       "      <td>0.905809</td>\n",
       "    </tr>\n",
       "    <tr>\n",
       "      <th>b</th>\n",
       "      <td>0.510285</td>\n",
       "      <td>0.281321</td>\n",
       "      <td>0.292912</td>\n",
       "      <td>0.445649</td>\n",
       "    </tr>\n",
       "    <tr>\n",
       "      <th>c</th>\n",
       "      <td>0.345967</td>\n",
       "      <td>0.664791</td>\n",
       "      <td>0.093477</td>\n",
       "      <td>0.999455</td>\n",
       "    </tr>\n",
       "    <tr>\n",
       "      <th>d</th>\n",
       "      <td>0.962213</td>\n",
       "      <td>0.993047</td>\n",
       "      <td>0.603140</td>\n",
       "      <td>0.692149</td>\n",
       "    </tr>\n",
       "    <tr>\n",
       "      <th>e</th>\n",
       "      <td>0.840637</td>\n",
       "      <td>0.715874</td>\n",
       "      <td>0.443643</td>\n",
       "      <td>0.724201</td>\n",
       "    </tr>\n",
       "    <tr>\n",
       "      <th>f</th>\n",
       "      <td>0.576740</td>\n",
       "      <td>0.266072</td>\n",
       "      <td>0.696912</td>\n",
       "      <td>0.031046</td>\n",
       "    </tr>\n",
       "  </tbody>\n",
       "</table>\n",
       "</div>"
      ],
      "text/plain": [
       "          A         B         C         D\n",
       "a  0.846315  0.919258  0.772414  0.905809\n",
       "b  0.510285  0.281321  0.292912  0.445649\n",
       "c  0.345967  0.664791  0.093477  0.999455\n",
       "d  0.962213  0.993047  0.603140  0.692149\n",
       "e  0.840637  0.715874  0.443643  0.724201\n",
       "f  0.576740  0.266072  0.696912  0.031046"
      ]
     },
     "execution_count": 28,
     "metadata": {},
     "output_type": "execute_result"
    }
   ],
   "source": [
    "df1"
   ]
  }
 ],
 "metadata": {
  "anaconda-cloud": {},
  "kernelspec": {
   "display_name": "Python [conda root]",
   "language": "python",
   "name": "conda-root-py"
  },
  "language_info": {
   "codemirror_mode": {
    "name": "ipython",
    "version": 2
   },
   "file_extension": ".py",
   "mimetype": "text/x-python",
   "name": "python",
   "nbconvert_exporter": "python",
   "pygments_lexer": "ipython2",
   "version": "2.7.12"
  }
 },
 "nbformat": 4,
 "nbformat_minor": 0
}
