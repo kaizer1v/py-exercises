{
 "cells": [
  {
   "cell_type": "code",
   "execution_count": 14,
   "metadata": {
    "collapsed": false
   },
   "outputs": [
    {
     "data": {
      "text/plain": [
       "u'/home/vivek/Documents/Projects/pandas'"
      ]
     },
     "execution_count": 14,
     "metadata": {},
     "output_type": "execute_result"
    }
   ],
   "source": [
    "%pwd"
   ]
  },
  {
   "cell_type": "code",
   "execution_count": 15,
   "metadata": {
    "collapsed": true
   },
   "outputs": [],
   "source": [
    "import pandas as pd\n",
    "import numpy as np"
   ]
  },
  {
   "cell_type": "markdown",
   "metadata": {},
   "source": [
    "# DataFrames\n",
    "\n",
    "**This notebook explores the functionalities of a DataFrame**"
   ]
  },
  {
   "cell_type": "markdown",
   "metadata": {},
   "source": [
    "## Create"
   ]
  },
  {
   "cell_type": "code",
   "execution_count": 12,
   "metadata": {
    "collapsed": false
   },
   "outputs": [
    {
     "ename": "NameError",
     "evalue": "name 'DataFrame' is not defined",
     "output_type": "error",
     "traceback": [
      "\u001b[0;31m---------------------------------------------------------------------------\u001b[0m",
      "\u001b[0;31mNameError\u001b[0m                                 Traceback (most recent call last)",
      "\u001b[0;32m<ipython-input-12-e946074a7f37>\u001b[0m in \u001b[0;36m<module>\u001b[0;34m()\u001b[0m\n\u001b[0;32m----> 1\u001b[0;31m df = DataFrame({\n\u001b[0m\u001b[1;32m      2\u001b[0m   \u001b[0;34m'a'\u001b[0m\u001b[0;34m:\u001b[0m \u001b[0mrandom\u001b[0m\u001b[0;34m.\u001b[0m\u001b[0mrandn\u001b[0m\u001b[0;34m(\u001b[0m\u001b[0;36m6\u001b[0m\u001b[0;34m)\u001b[0m\u001b[0;34m,\u001b[0m\u001b[0;34m\u001b[0m\u001b[0m\n\u001b[1;32m      3\u001b[0m   \u001b[0;34m'b'\u001b[0m\u001b[0;34m:\u001b[0m \u001b[0;34m[\u001b[0m\u001b[0;34m'foo'\u001b[0m\u001b[0;34m,\u001b[0m \u001b[0;34m'bar'\u001b[0m\u001b[0;34m]\u001b[0m \u001b[0;34m*\u001b[0m \u001b[0;36m3\u001b[0m\u001b[0;34m,\u001b[0m\u001b[0;34m\u001b[0m\u001b[0m\n\u001b[1;32m      4\u001b[0m   \u001b[0;34m'c'\u001b[0m\u001b[0;34m:\u001b[0m \u001b[0mrandom\u001b[0m\u001b[0;34m.\u001b[0m\u001b[0mrandn\u001b[0m\u001b[0;34m(\u001b[0m\u001b[0;36m6\u001b[0m\u001b[0;34m)\u001b[0m\u001b[0;34m\u001b[0m\u001b[0m\n\u001b[1;32m      5\u001b[0m })\n",
      "\u001b[0;31mNameError\u001b[0m: name 'DataFrame' is not defined"
     ]
    }
   ],
   "source": [
    "df = pd.DataFrame({\n",
    "  'a': np.random.randn(6),\n",
    "  'b': ['foo', 'bar'] * 3,\n",
    "  'c': np.random.randn(6)\n",
    "})\n",
    "\n",
    "# Let us add one more column\n",
    "df['d'] = range(6)"
   ]
  },
  {
   "cell_type": "code",
   "execution_count": 13,
   "metadata": {
    "collapsed": false
   },
   "outputs": [
    {
     "ename": "NameError",
     "evalue": "name 'df' is not defined",
     "output_type": "error",
     "traceback": [
      "\u001b[0;31m---------------------------------------------------------------------------\u001b[0m",
      "\u001b[0;31mNameError\u001b[0m                                 Traceback (most recent call last)",
      "\u001b[0;32m<ipython-input-13-7ed0097d7e9e>\u001b[0m in \u001b[0;36m<module>\u001b[0;34m()\u001b[0m\n\u001b[0;32m----> 1\u001b[0;31m \u001b[0mdf\u001b[0m\u001b[0;34m\u001b[0m\u001b[0m\n\u001b[0m",
      "\u001b[0;31mNameError\u001b[0m: name 'df' is not defined"
     ]
    }
   ],
   "source": [
    "df"
   ]
  },
  {
   "cell_type": "markdown",
   "metadata": {},
   "source": [
    "## Selection"
   ]
  },
  {
   "cell_type": "code",
   "execution_count": 19,
   "metadata": {
    "collapsed": false
   },
   "outputs": [
    {
     "data": {
      "text/html": [
       "<div>\n",
       "<table border=\"1\" class=\"dataframe\">\n",
       "  <thead>\n",
       "    <tr style=\"text-align: right;\">\n",
       "      <th></th>\n",
       "      <th>a</th>\n",
       "      <th>b</th>\n",
       "      <th>c</th>\n",
       "      <th>d</th>\n",
       "    </tr>\n",
       "  </thead>\n",
       "  <tbody>\n",
       "    <tr>\n",
       "      <th>0</th>\n",
       "      <td>1.719012</td>\n",
       "      <td>foo</td>\n",
       "      <td>0.102511</td>\n",
       "      <td>0</td>\n",
       "    </tr>\n",
       "    <tr>\n",
       "      <th>1</th>\n",
       "      <td>-0.163372</td>\n",
       "      <td>bar</td>\n",
       "      <td>-1.239978</td>\n",
       "      <td>1</td>\n",
       "    </tr>\n",
       "    <tr>\n",
       "      <th>2</th>\n",
       "      <td>-0.884898</td>\n",
       "      <td>foo</td>\n",
       "      <td>-0.426141</td>\n",
       "      <td>2</td>\n",
       "    </tr>\n",
       "  </tbody>\n",
       "</table>\n",
       "</div>"
      ],
      "text/plain": [
       "          a    b         c  d\n",
       "0  1.719012  foo  0.102511  0\n",
       "1 -0.163372  bar -1.239978  1\n",
       "2 -0.884898  foo -0.426141  2"
      ]
     },
     "execution_count": 19,
     "metadata": {},
     "output_type": "execute_result"
    }
   ],
   "source": [
    "df[:3]"
   ]
  },
  {
   "cell_type": "code",
   "execution_count": 26,
   "metadata": {
    "collapsed": false
   },
   "outputs": [
    {
     "data": {
      "text/plain": [
       "a     1.82588\n",
       "b         bar\n",
       "c    0.514428\n",
       "d           3\n",
       "Name: 3, dtype: object"
      ]
     },
     "execution_count": 26,
     "metadata": {},
     "output_type": "execute_result"
    }
   ],
   "source": [
    "# Get the 4th row (indexded as 3)\n",
    "df.ix[3]"
   ]
  },
  {
   "cell_type": "code",
   "execution_count": 28,
   "metadata": {
    "collapsed": false
   },
   "outputs": [
    {
     "data": {
      "text/plain": [
       "3"
      ]
     },
     "execution_count": 28,
     "metadata": {},
     "output_type": "execute_result"
    }
   ],
   "source": [
    "# You can get 4th row (indexed as 3) from the 'd' column\n",
    "df.ix[3, 'd']"
   ]
  },
  {
   "cell_type": "code",
   "execution_count": 30,
   "metadata": {
    "collapsed": false
   },
   "outputs": [
    {
     "data": {
      "text/plain": [
       "2   -0.884898\n",
       "3    1.825879\n",
       "4    0.125086\n",
       "Name: a, dtype: float64"
      ]
     },
     "execution_count": 30,
     "metadata": {},
     "output_type": "execute_result"
    }
   ],
   "source": [
    "# You can slice multiple rows from the dataframe from the 'a' column\n",
    "df.ix[2:4, 'a']"
   ]
  },
  {
   "cell_type": "code",
   "execution_count": 31,
   "metadata": {
    "collapsed": false
   },
   "outputs": [
    {
     "data": {
      "text/html": [
       "<div>\n",
       "<table border=\"1\" class=\"dataframe\">\n",
       "  <thead>\n",
       "    <tr style=\"text-align: right;\">\n",
       "      <th></th>\n",
       "      <th>d</th>\n",
       "      <th>c</th>\n",
       "    </tr>\n",
       "  </thead>\n",
       "  <tbody>\n",
       "    <tr>\n",
       "      <th>2</th>\n",
       "      <td>2</td>\n",
       "      <td>-0.426141</td>\n",
       "    </tr>\n",
       "    <tr>\n",
       "      <th>3</th>\n",
       "      <td>3</td>\n",
       "      <td>0.514428</td>\n",
       "    </tr>\n",
       "  </tbody>\n",
       "</table>\n",
       "</div>"
      ],
      "text/plain": [
       "   d         c\n",
       "2  2 -0.426141\n",
       "3  3  0.514428"
      ]
     },
     "execution_count": 31,
     "metadata": {},
     "output_type": "execute_result"
    }
   ],
   "source": [
    "# You can select sub-sets (regions) of the dataframe like so...\n",
    "df.ix[2:3, ['d', 'c']]"
   ]
  },
  {
   "cell_type": "code",
   "execution_count": 35,
   "metadata": {
    "collapsed": false
   },
   "outputs": [
    {
     "data": {
      "text/html": [
       "<div>\n",
       "<table border=\"1\" class=\"dataframe\">\n",
       "  <thead>\n",
       "    <tr style=\"text-align: right;\">\n",
       "      <th></th>\n",
       "      <th>a</th>\n",
       "      <th>b</th>\n",
       "      <th>c</th>\n",
       "    </tr>\n",
       "  </thead>\n",
       "  <tbody>\n",
       "    <tr>\n",
       "      <th>2</th>\n",
       "      <td>-0.884898</td>\n",
       "      <td>foo</td>\n",
       "      <td>-0.426141</td>\n",
       "    </tr>\n",
       "    <tr>\n",
       "      <th>3</th>\n",
       "      <td>1.825879</td>\n",
       "      <td>bar</td>\n",
       "      <td>0.514428</td>\n",
       "    </tr>\n",
       "  </tbody>\n",
       "</table>\n",
       "</div>"
      ],
      "text/plain": [
       "          a    b         c\n",
       "2 -0.884898  foo -0.426141\n",
       "3  1.825879  bar  0.514428"
      ]
     },
     "execution_count": 35,
     "metadata": {},
     "output_type": "execute_result"
    }
   ],
   "source": [
    "# You can also slice by column (a through c)\n",
    "df.ix[2:3, \"a\":\"c\"]"
   ]
  },
  {
   "cell_type": "code",
   "execution_count": 36,
   "metadata": {
    "collapsed": false
   },
   "outputs": [
    {
     "data": {
      "text/html": [
       "<div>\n",
       "<table border=\"1\" class=\"dataframe\">\n",
       "  <thead>\n",
       "    <tr style=\"text-align: right;\">\n",
       "      <th></th>\n",
       "      <th>a</th>\n",
       "      <th>c</th>\n",
       "      <th>b</th>\n",
       "    </tr>\n",
       "  </thead>\n",
       "  <tbody>\n",
       "    <tr>\n",
       "      <th>1</th>\n",
       "      <td>-0.163372</td>\n",
       "      <td>-1.239978</td>\n",
       "      <td>bar</td>\n",
       "    </tr>\n",
       "    <tr>\n",
       "      <th>4</th>\n",
       "      <td>0.125086</td>\n",
       "      <td>0.860020</td>\n",
       "      <td>foo</td>\n",
       "    </tr>\n",
       "    <tr>\n",
       "      <th>5</th>\n",
       "      <td>-0.631258</td>\n",
       "      <td>-1.306910</td>\n",
       "      <td>bar</td>\n",
       "    </tr>\n",
       "  </tbody>\n",
       "</table>\n",
       "</div>"
      ],
      "text/plain": [
       "          a         c    b\n",
       "1 -0.163372 -1.239978  bar\n",
       "4  0.125086  0.860020  foo\n",
       "5 -0.631258 -1.306910  bar"
      ]
     },
     "execution_count": 36,
     "metadata": {},
     "output_type": "execute_result"
    }
   ],
   "source": [
    "# You can also select the specific row and column you want to select (on rows & columns both)\n",
    "df.ix[[1, 4, 5], ['a', 'c', 'b']]"
   ]
  },
  {
   "cell_type": "code",
   "execution_count": 41,
   "metadata": {
    "collapsed": false
   },
   "outputs": [
    {
     "data": {
      "text/html": [
       "<div>\n",
       "<table border=\"1\" class=\"dataframe\">\n",
       "  <thead>\n",
       "    <tr style=\"text-align: right;\">\n",
       "      <th></th>\n",
       "      <th>b</th>\n",
       "      <th>c</th>\n",
       "      <th>d</th>\n",
       "    </tr>\n",
       "  </thead>\n",
       "  <tbody>\n",
       "    <tr>\n",
       "      <th>0</th>\n",
       "      <td>foo</td>\n",
       "      <td>0.102511</td>\n",
       "      <td>0</td>\n",
       "    </tr>\n",
       "    <tr>\n",
       "      <th>3</th>\n",
       "      <td>bar</td>\n",
       "      <td>0.514428</td>\n",
       "      <td>3</td>\n",
       "    </tr>\n",
       "    <tr>\n",
       "      <th>4</th>\n",
       "      <td>foo</td>\n",
       "      <td>0.860020</td>\n",
       "      <td>4</td>\n",
       "    </tr>\n",
       "  </tbody>\n",
       "</table>\n",
       "</div>"
      ],
      "text/plain": [
       "     b         c  d\n",
       "0  foo  0.102511  0\n",
       "3  bar  0.514428  3\n",
       "4  foo  0.860020  4"
      ]
     },
     "execution_count": 41,
     "metadata": {},
     "output_type": "execute_result"
    }
   ],
   "source": [
    "# You can also select using boolean arrays, (conditional)\n",
    "# Let us say you want to select all rows where the 'c' column is greater than 0\n",
    "df.ix[df['c'] > 0, \"b\":\"d\"]"
   ]
  },
  {
   "cell_type": "code",
   "execution_count": 42,
   "metadata": {
    "collapsed": false
   },
   "outputs": [
    {
     "name": "stdout",
     "output_type": "stream",
     "text": [
      "\u001b[0m\u001b[01;32m01_fundas.ipynb\u001b[0m*      \u001b[01;32mIndexing.ipynb\u001b[0m*             \u001b[01;32mRandomness.ipynb\u001b[0m*\r\n",
      "\u001b[01;32m02_series.ipynb\u001b[0m*      \u001b[01;32miris.csv\u001b[0m*                   \u001b[01;32msample_data.txt\u001b[0m*\r\n",
      "\u001b[01;32m03_dataframes.ipynb\u001b[0m*  \u001b[01;32mmovies.csv\u001b[0m*                 \u001b[01;32mStrings.ipynb\u001b[0m*\r\n",
      "\u001b[01;32m04_datetime.ipynb\u001b[0m*    \u001b[01;32mmovies_exp.ipynb\u001b[0m*           \u001b[01;32mUntitled.ipynb\u001b[0m*\r\n",
      "\u001b[01;32mCSV.ipynb\u001b[0m*            \u001b[01;32mmovies.py\u001b[0m*                  \u001b[01;32mvectors.py\u001b[0m*\r\n",
      "\u001b[01;32mdefault.ipynb\u001b[0m*        \u001b[01;32mPandas Introduction.ipynb\u001b[0m*\r\n",
      "\u001b[01;32mdirty.csv\u001b[0m*            \u001b[34;42mpublished\u001b[0m/\r\n"
     ]
    }
   ],
   "source": [
    "%ls"
   ]
  },
  {
   "cell_type": "code",
   "execution_count": 48,
   "metadata": {
    "collapsed": false
   },
   "outputs": [
    {
     "name": "stdout",
     "output_type": "stream",
     "text": [
      ",movie_id,title,genres\r\n",
      "0,1,Toy Story (1995),Animation|Children's|Comedy\r\n",
      "1,2,Jumanji (1995),Adventure|Children's|Fantasy\r\n",
      "2,3,Grumpier Old Men (1995),Comedy|Romance\r\n",
      "3,4,Waiting to Exhale (1995),Comedy|Drama\r\n",
      "4,5,Father of the Bride Part II (1995),Comedy\r\n",
      "5,6,Heat (1995),Action|Crime|Thriller\r\n",
      "6,7,Sabrina (1995),Comedy|Romance\r\n",
      "7,8,Tom and Huck (1995),Adventure|Children's\r\n",
      "8,9,Sudden Death (1995),Action\r\n"
     ]
    }
   ],
   "source": [
    "!head -n 10 movies.csv"
   ]
  },
  {
   "cell_type": "code",
   "execution_count": null,
   "metadata": {
    "collapsed": true
   },
   "outputs": [],
   "source": []
  },
  {
   "cell_type": "code",
   "execution_count": null,
   "metadata": {
    "collapsed": true
   },
   "outputs": [],
   "source": []
  },
  {
   "cell_type": "code",
   "execution_count": null,
   "metadata": {
    "collapsed": true
   },
   "outputs": [],
   "source": []
  },
  {
   "cell_type": "code",
   "execution_count": null,
   "metadata": {
    "collapsed": true
   },
   "outputs": [],
   "source": []
  },
  {
   "cell_type": "code",
   "execution_count": null,
   "metadata": {
    "collapsed": true
   },
   "outputs": [],
   "source": []
  },
  {
   "cell_type": "markdown",
   "metadata": {},
   "source": [
    "## Create"
   ]
  },
  {
   "cell_type": "code",
   "execution_count": 4,
   "metadata": {
    "collapsed": true
   },
   "outputs": [],
   "source": [
    "# You can create a dataframe out of a simple array of dictionary. Let's try that\n",
    "cars = pd.DataFrame([{\"rating\": \" 3.25\", \"name\": \"Maruti Suzuki Baleno\", \"price\": \"6.87\\u00a0Lakh\", \"mileage\": \"21.04\\u00a0km/liter\", \"power\": \"84ps@6000rpm\", \"model\": \"1.2 CVT\", \"img\": \"https://i.autoportal.com/i/828282.gif\", \"fuel\": \"petrol\"}, {\"rating\": \" 3.50\", \"name\": \"Maruti Suzuki Wagon R\", \"price\": \"4.81\\u00a0Lakh\", \"mileage\": \"20.51\\u00a0km/liter\", \"power\": \"68ps@6200rpm\", \"model\": \"VXI AMT\", \"img\": \"https://i.autoportal.com/i/828282.gif\", \"fuel\": \"petrol\"}, {\"rating\": \" 3.50\", \"name\": \"Maruti Suzuki Alto K10\", \"price\": \"4.05\\u00a0Lakh\", \"mileage\": \"24.07\\u00a0km/liter\", \"power\": \"68ps@6000rpm\", \"model\": \"VXI AGS Automatic\", \"img\": \"https://i.autoportal.com/i/828282.gif\", \"fuel\": \"petrol\"}, {\"rating\": \" 3.50\", \"name\": \"Mahindra XUV500\", \"price\": \"13.48\\u00a0Lakh\", \"mileage\": \"16\\u00a0km/liter\", \"power\": \"140ps@3750rpm\", \"model\": \"W6 AT\", \"img\": \"https://i.autoportal.com/i/828282.gif\", \"fuel\": \"diesel\"}, {\"rating\": \" \", \"name\": \"Volkswagen Polo GT\", \"price\": \"9.05\\u00a0Lakh\", \"mileage\": \"17.21\\u00a0km/liter\", \"power\": \"105ps@5000rpm\", \"model\": \"TSI\", \"img\": \"https://i.autoportal.com/i/828282.gif\", \"fuel\": \"petrol\"}, {\"rating\": \" 3.50\", \"name\": \"Hyundai Creta\", \"price\": \"12.87\\u00a0Lakh\", \"mileage\": \"15.29\\u00a0km/liter\", \"power\": \"123ps@6400rpm\", \"model\": \"1.6 VTVT AT SX Plus\", \"img\": \"https://i.autoportal.com/i/828282.gif\", \"fuel\": \"petrol\"}, {\"rating\": \" 3.50\", \"name\": \"Maruti Suzuki Swift DZire\", \"price\": \"6.83\\u00a0Lakh\", \"mileage\": \"18.5\\u00a0km/liter\", \"power\": \"84.3ps@6000rpm\", \"model\": \"VXI AT\", \"img\": \"https://i.autoportal.com/i/828282.gif\", \"fuel\": \"petrol\"}, {\"rating\": \" 3.50\", \"name\": \"Maruti Suzuki Celerio\", \"price\": \"4.50\\u00a0Lakh\", \"mileage\": \"23.1\\u00a0km/liter\", \"power\": \"68ps@6000rpm\", \"model\": \"LXi AT\", \"img\": \"https://i.autoportal.com/i/828282.gif\", \"fuel\": \"petrol\"}, {\"rating\": \" 3.75\", \"name\": \"Honda City\", \"price\": \"10.30\\u00a0Lakh\", \"mileage\": \"18.0\\u00a0km/liter\", \"power\": \"119ps@6600rpm\", \"model\": \"SV CVT Petrol\", \"img\": \"https://i.autoportal.com/i/828282.gif\", \"fuel\": \"petrol\"}, {\"rating\": \" 3.50\", \"name\": \"Maruti Suzuki Ertiga\", \"price\": \"8.55\\u00a0Lakh\", \"mileage\": \"17.03\\u00a0km/liter\", \"power\": \"92ps@6000rpm\", \"model\": \"VXI AT\", \"img\": \"https://i.autoportal.com/i/828282.gif\", \"fuel\": \"petrol\"}, {\"rating\": \" 3.50\", \"name\": \"Hyundai Grand i10\", \"price\": \"6.49\\u00a0Lakh\", \"mileage\": \"18.9\\u00a0km/liter\", \"power\": \"83ps@6000rpm\", \"model\": \"Asta AT\", \"img\": \"https://i.autoportal.com/i/828282.gif\", \"fuel\": \"petrol\"}, {\"rating\": \" 3.50\", \"name\": \"Honda Jazz\", \"price\": \"7.26\\u00a0Lakh\", \"mileage\": \"19.0\\u00a0km/liter\", \"power\": \"90ps@6000rpm\", \"model\": \"S CVT\", \"img\": \"https://i.autoportal.com/i/828282.gif\", \"fuel\": \"petrol\"}, {\"rating\": \" 3.75\", \"name\": \"Mercedes-Benz C-Class\", \"price\": \"37.90\\u00a0Lakh\", \"mileage\": \"19.27\\u00a0km/liter\", \"power\": \"170ps@3000-4200rpm\", \"model\": \"C220 CDI Style\", \"img\": \"https://i.autoportal.com/i/828282.gif\", \"fuel\": \"diesel\"}, {\"rating\": \" 3.50\", \"name\": \"Mahindra Scorpio\", \"price\": \"13.41\\u00a0Lakh\", \"mileage\": \"15.4\\u00a0km/liter\", \"power\": \"120bhp@4000rpm\", \"model\": \"S10 2WD AT\", \"img\": \"https://i.autoportal.com/i/828282.gif\", \"fuel\": \"diesel\"}, {\"rating\": \" 3.75\", \"name\": \"Ford Figo\", \"price\": \"7.20\\u00a0Lakh\", \"mileage\": \"17\\u00a0km/liter\", \"power\": \"112ps@6300rpm\", \"model\": \"Titanium 1.5 Ti-VCT AT\", \"img\": \"https://i.autoportal.com/i/828282.gif\", \"fuel\": \"petrol\"}, {\"rating\": \" 3.25\", \"name\": \"Tata Nano GenX\", \"price\": \"2.83\\u00a0Lakh\", \"mileage\": \"21.9\\u00a0km/liter\", \"power\": \"38ps@5500rpm\", \"model\": \"XMA AMT\", \"img\": \"https://i.autoportal.com/i/828282.gif\", \"fuel\": \"petrol\"}, {\"rating\": \" 3.75\", \"name\": \"Land Rover Range Rover Sport\", \"price\": \"1.16\\u00a0Cr\", \"mileage\": \"14.7\\u00a0km/liter\", \"power\": \"215ps@4000rpm\", \"model\": \"S\", \"img\": \"https://i.autoportal.com/i/828282.gif\", \"fuel\": \"diesel\"}, {\"rating\": \" 3.75\", \"name\": \"Ford EcoSport\", \"price\": \"9.62\\u00a0Lakh\", \"mileage\": \"18.88\\u00a0km/liter\", \"power\": \"112ps@6300rpm\", \"model\": \"1.5L Ti-VCT Titanium (AT)\", \"img\": \"https://i.autoportal.com/i/828282.gif\", \"fuel\": \"petrol\"}, {\"rating\": \" 3.75\", \"name\": \"Renault Duster\", \"price\": \"11.67\\u00a0Lakh\", \"mileage\": \"19.6\\u00a0km/liter\", \"power\": \"110ps@4000rpm\", \"model\": \"110 PS RXL AMT\", \"img\": \"https://i.autoportal.com/i/828282.gif\", \"fuel\": \"diesel\"}, {\"rating\": \" 3.50\", \"name\": \"Mahindra TUV300\", \"price\": \"8.92\\u00a0Lakh\", \"mileage\": \"18.49\\u00a0km/liter\", \"power\": \"81ps@3750rpm\", \"model\": \"mHawk 80 T6 Plus AMT\", \"img\": \"https://i.autoportal.com/i/828282.gif\", \"fuel\": \"diesel\"}, {\"rating\": \" 4.75\", \"name\": \"Honda BRV\", \"price\": \"11.99\\u00a0Lakh\", \"mileage\": \"16\\u00a0km/liter\", \"power\": \"119 ps@ 6600 rpm\", \"model\": \"V CVT Petrol\", \"img\": \"https://i.autoportal.com/i/828282.gif\", \"fuel\": \"petrol\"}, {\"rating\": \" 4.00\", \"name\": \"Mercedes-Benz GLS\", \"price\": \"77.50\\u00a0Lakh\", \"mileage\": \"11.6\\u00a0km/liter\", \"power\": \"258 ps @3600rpm\", \"model\": \"350 CDI\", \"img\": \"https://i.autoportal.com/i/828282.gif\", \"fuel\": \"diesel\"}, {\"rating\": \" 3.50\", \"name\": \"Maruti Suzuki Ciaz\", \"price\": \"9.29\\u00a0Lakh\", \"mileage\": \"19.12\\u00a0km/liter\", \"power\": \"92.5ps@6000rpm\", \"model\": \"Vxi Plus AT\", \"img\": \"https://i.autoportal.com/i/828282.gif\", \"fuel\": \"petrol\"}, {\"rating\": \" 4.00\", \"name\": \"Ford Aspire\", \"price\": \"8.13\\u00a0Lakh\", \"mileage\": \"17.00\\u00a0km/liter\", \"power\": \"112ps@6300rpm\", \"model\": \"1.5 Ti-VCT AT Titanium\", \"img\": \"https://i.autoportal.com/i/828282.gif\", \"fuel\": \"petrol\"}, {\"rating\": \" 3.50\", \"name\": \"Volkswagen Vento\", \"price\": \"10.37\\u00a0Lakh\", \"mileage\": \"18.19\\u00a0km/liter\", \"power\": \"105ps@5000rpm\", \"model\": \"1.2 TSI COMFORTLINE AT\", \"img\": \"https://i.autoportal.com/i/828282.gif\", \"fuel\": \"petrol\"}, {\"rating\": \" 3.75\", \"name\": \"Tata Zest\", \"price\": \"8.15\\u00a0Lakh\", \"mileage\": \"23\\u00a0km/liter\", \"power\": \"90ps@4000pm\", \"model\": \"XTA Diesel\", \"img\": \"https://i.autoportal.com/i/828282.gif\", \"fuel\": \"diesel\"}, {\"rating\": \" 4.00\", \"name\": \"BMW 3-Series\", \"price\": \"34.90\\u00a0Lakh\", \"mileage\": \"18.88\\u00a0km/liter\", \"power\": \"184ps@4000rpm\", \"model\": \"320d\", \"img\": \"https://i.autoportal.com/i/828282.gif\", \"fuel\": \"diesel\"}, {\"rating\": \" 3.50\", \"name\": \"Hyundai Xcent\", \"price\": \"7.84\\u00a0Lakh\", \"mileage\": \"16.1\\u00a0km/liter\", \"power\": \"83ps@6000rpm\", \"model\": \"SX AT 1.2 (O)\", \"img\": \"https://i.autoportal.com/i/828282.gif\", \"fuel\": \"petrol\"}, {\"rating\": \" 3.75\", \"name\": \"Hyundai Verna\", \"price\": \"9.63\\u00a0Lakh\", \"mileage\": \"17.1\\u00a0km/liter\", \"power\": \"123ps@6300rpm\", \"model\": \"1.6 VTVT S AT\", \"img\": \"https://i.autoportal.com/i/828282.gif\", \"fuel\": \"petrol\"}, {\"rating\": \" 4.00\", \"name\": \"BMW 5-Series\", \"price\": \"44.90\\u00a0Lakh\", \"mileage\": \"18.12\\u00a0km/liter\", \"power\": \"190ps@ 4000rpm\", \"model\": \"520d Prestige\", \"img\": \"https://i.autoportal.com/i/828282.gif\", \"fuel\": \"diesel\"}, {\"rating\": \" 3.50\", \"name\": \"Toyota Innova Crysta\", \"price\": \"16.15\\u00a0Lakh\", \"power\": \"174ps@3400rpm\", \"model\": \"2.8 GX AT 7 STR\", \"img\": \"https://i.autoportal.com/i/828282.gif\", \"fuel\": \"diesel\"}, {\"rating\": \" 3.75\", \"name\": \"Mahindra SsangYong Rexton\", \"price\": \"23.80\\u00a0Lakh\", \"mileage\": \"14.2\\u00a0km/liter\", \"power\": \"184 ps @ 4000rpm\", \"model\": \"RX7 AT\", \"img\": \"https://i.autoportal.com/i/828282.gif\", \"fuel\": \"diesel\"}, {\"rating\": \" 3.25\", \"name\": \"Nissan Micra\", \"price\": \"6.53\\u00a0Lakh\", \"mileage\": \"19.34\\u00a0km/liter\", \"power\": \"75ps@6000rpm\", \"model\": \"X-Shift\", \"img\": \"https://i.autoportal.com/i/828282.gif\", \"fuel\": \"petrol\"}, {\"rating\": \" 3.75\", \"name\": \"Toyota Corolla Altis\", \"price\": \"15.88\\u00a0Lakh\", \"mileage\": \"14.5\\u00a0km/liter\", \"power\": \"140ps@6400rpm\", \"model\": \"1.8 G(CVT)\", \"img\": \"https://i.autoportal.com/i/828282.gif\", \"fuel\": \"petrol\"}, {\"rating\": \" 3.50\", \"name\": \"Chevrolet Cruze\", \"price\": \"16.95\\u00a0Lakh\", \"mileage\": \"14.81\\u00a0km/liter\", \"power\": \"166ps@3800rpm\", \"model\": \"LTZ AT\", \"img\": \"https://i.autoportal.com/i/828282.gif\", \"fuel\": \"diesel\"}, {\"rating\": \" 3.25\", \"name\": \"Audi Q3\", \"price\": \"34.20\\u00a0Lakh\", \"mileage\": \"15.73\\u00a0km/liter\", \"power\": \"177ps@4200rpm\", \"model\": \"Q3 Premium\", \"img\": \"https://i.autoportal.com/i/828282.gif\", \"fuel\": \"diesel\"}, {\"rating\": \" 3.50\", \"name\": \"Nissan Sunny\", \"price\": \"9.55\\u00a0Lakh\", \"mileage\": \"17.97\\u00a0km/liter\", \"power\": \"101ps@5600rpm\", \"model\": \"XL CVT AT Petrol\", \"img\": \"https://i.autoportal.com/i/828282.gif\", \"fuel\": \"petrol\"}, {\"rating\": \" 3.50\", \"name\": \"Maruti Suzuki Ritz\", \"price\": \"6.14\\u00a0Lakh\", \"mileage\": \"17.16\\u00a0km/liter\", \"power\": \"87ps@6000rpm\", \"model\": \"VXi AT\", \"img\": \"https://i.autoportal.com/i/828282.gif\", \"fuel\": \"petrol\"}, {\"rating\": \" 3.50\", \"name\": \"Honda Amaze\", \"price\": \"7.26\\u00a0Lakh\", \"mileage\": \"18.1\\u00a0km/liter\", \"power\": \"90ps@6000rpm\", \"model\": \"S AT Petrol\", \"img\": \"https://i.autoportal.com/i/828282.gif\", \"fuel\": \"petrol\"}, {\"rating\": \" 3.50\", \"name\": \"Mahindra NuvoSport\", \"price\": \"9.10\\u00a0Lakh\", \"mileage\": \"16.21\\u00a0km/liter\", \"power\": \"100ps@3750rpm\", \"model\": \"N6 AMT\", \"img\": \"https://i.autoportal.com/i/828282.gif\", \"fuel\": \"diesel\"}, {\"rating\": \" 3.50\", \"name\": \"Ford Endeavour\", \"price\": \"25.44\\u00a0Lakh\", \"mileage\": \"12.62\\u00a0km/liter\", \"power\": \"160ps@3200rpm\", \"model\": \"2.2L 4\\u00d72 AT Trend\", \"img\": \"https://i.autoportal.com/i/828282.gif\", \"fuel\": \"diesel\"}, {\"rating\": \" 3.75\", \"name\": \"Hyundai Elantra\", \"price\": \"17.53\\u00a0Lakh\", \"mileage\": \"16.3\\u00a0km/liter\", \"power\": \"149.5ps@6500rpm\", \"model\": \"1.8 SX AT\", \"img\": \"https://i.autoportal.com/i/828282.gif\", \"fuel\": \"petrol\"}, {\"rating\": \" 3.25\", \"name\": \"Honda Brio\", \"price\": \"6.50\\u00a0Lakh\", \"mileage\": \"16.5\\u00a0km/liter\", \"power\": \"88ps@6000rpm\", \"model\": \"VX  AT\", \"img\": \"https://i.autoportal.com/i/828282.gif\", \"fuel\": \"petrol\"}, {\"rating\": \" 3.75\", \"name\": \"Audi A3\", \"price\": \"24.56\\u00a0Lakh\", \"mileage\": \"20.38\\u00a0km/liter\", \"power\": \"143ps@3500rpm\", \"model\": \"35 TDI Attraction\", \"img\": \"https://i.autoportal.com/i/828282.gif\", \"fuel\": \"diesel\"}, {\"rating\": \" 3.50\", \"name\": \"BMW M4\", \"price\": \"1.19\\u00a0Cr\", \"mileage\": \"10.75\\u00a0km/liter\", \"power\": \"431ps@5500-7300rpm\", \"model\": \"Coupe\", \"img\": \"https://i.autoportal.com/i/828282.gif\", \"fuel\": \"petrol\"}, {\"rating\": \" 3.50\", \"name\": \"Volkswagen Jetta\", \"price\": \"20.89\\u00a0Lakh\", \"mileage\": \"16.96\\u00a0km/liter\", \"power\": \"140ps@4200rpm\", \"model\": \"Highline TDI (AT)\", \"img\": \"https://i.autoportal.com/i/828282.gif\", \"fuel\": \"diesel\"}, {\"rating\": \" 3.25\", \"name\": \"Maruti Suzuki Wagon R Stingray\", \"price\": \"5.02\\u00a0Lakh\", \"mileage\": \"20.51\\u00a0km/liter\", \"power\": \"68ps@6200rpm\", \"model\": \"VXI AMT\", \"img\": \"https://i.autoportal.com/i/828282.gif\", \"fuel\": \"petrol\"}, {\"rating\": \" 3.25\", \"name\": \"Mahindra e2o\", \"price\": \"5.96\\u00a0Lakh\", \"power\": \"25.83ps@3750rpm\", \"model\": \"T01\", \"img\": \"https://i.autoportal.com/i/828282.gif\", \"fuel\": \"electric\"}, {\"rating\": \" 4.00\", \"name\": \"Lamborghini Huracan\", \"price\": \"2.99\\u00a0Cr\", \"mileage\": \"11.24\\u00a0km/liter\", \"power\": \"580ps@8000rpm\", \"model\": \"LP 580-2\", \"img\": \"https://i.autoportal.com/i/828282.gif\", \"fuel\": \"petrol\"}, {\"rating\": \" 3.50\", \"name\": \"Skoda Octavia\", \"price\": \"19.78\\u00a0Lakh\", \"mileage\": \"19.3\\u00a0km/liter\", \"power\": \"143ps@4000rpm\", \"model\": \"Ambition 2.0 TDI CR AT\", \"img\": \"https://i.autoportal.com/i/828282.gif\", \"fuel\": \"diesel\"}, {\"rating\": \" 3.75\", \"name\": \"BMW 1 Series\", \"price\": \"29.90\\u00a0Lakh\", \"mileage\": \"23.26\\u00a0km/liter\", \"power\": \"149ps@4000rpm\", \"model\": \"118d Sport Line\", \"img\": \"https://i.autoportal.com/i/828282.gif\", \"fuel\": \"diesel\"}, {\"rating\": \" \", \"name\": \"Mahindra E Verito\", \"price\": \"9.50\\u00a0Lakh\", \"power\": \"41ps@3500rpm\", \"model\": \"D2\", \"img\": \"https://i.autoportal.com/i/828282.gif\", \"fuel\": \"electric\"}, {\"rating\": \" 4.25\", \"name\": \"Bentley Continental GT\", \"price\": \"3.57\\u00a0Cr\", \"mileage\": \"8.6\\u00a0km/liter\", \"power\": \"590ps@6000rpm\", \"model\": \"Coupe\", \"img\": \"https://i.autoportal.com/i/828282.gif\", \"fuel\": \"petrol\"}, {\"rating\": \" 3.50\", \"name\": \"Toyota Fortuner\", \"price\": \"25.17\\u00a0Lakh\", \"mileage\": \"12.55\\u00a0km/liter\", \"power\": \"171ps@3600rpm\", \"model\": \"4x2 AT\", \"img\": \"https://i.autoportal.com/i/828282.gif\", \"fuel\": \"diesel\"}, {\"rating\": \" 3.75\", \"name\": \"Toyota Camry\", \"price\": \"29.12\\u00a0Lakh\", \"mileage\": \"12.98\\u00a0km/liter\", \"power\": \"181ps@6000rpm\", \"model\": \"2.5L\", \"img\": \"https://i.autoportal.com/i/828282.gif\", \"fuel\": \"petrol\"}, {\"rating\": \" 3.75\", \"name\": \"Audi R8\", \"price\": \"2.47\\u00a0Cr\", \"mileage\": \"6.71\\u00a0km/liter\", \"power\": \"610ps@8250rpm\", \"model\": \"V10 Plus\", \"img\": \"https://i.autoportal.com/i/828282.gif\", \"fuel\": \"petrol\"}, {\"rating\": \" 3.50\", \"name\": \"Hyundai Santa Fe\", \"price\": \"29.55\\u00a0Lakh\", \"mileage\": \"13.01\\u00a0km/liter\", \"power\": \"197ps@3800rpm\", \"model\": \"2 WD AT\", \"img\": \"https://i.autoportal.com/i/828282.gif\", \"fuel\": \"diesel\"}, {\"rating\": \" 4.00\", \"name\": \"Toyota Land Cruiser\", \"price\": \"1.29\\u00a0Cr\", \"mileage\": \"9.0\\u00a0km/liter\", \"power\": \"265ps@3400rpm\", \"model\": \"VX\", \"img\": \"https://i.autoportal.com/i/828282.gif\", \"fuel\": \"diesel\"}, {\"rating\": \" 3.50\", \"name\": \"Renault Koleos\", \"price\": \"28.59\\u00a0Lakh\", \"mileage\": \"14.56\\u00a0km/liter\", \"power\": \"173ps@3750rpm\", \"model\": \"4x4 AT\", \"img\": \"https://i.autoportal.com/i/828282.gif\", \"fuel\": \"diesel\"}, {\"rating\": \" 3.25\", \"name\": \"Skoda Rapid\", \"price\": \"10.44\\u00a0Lakh\", \"mileage\": \"14.3\\u00a0km/liter\", \"power\": \"105ps@5250rpm\", \"model\": \"1.6 MPI Style AT\", \"img\": \"https://i.autoportal.com/i/828282.gif\", \"fuel\": \"petrol\"}, {\"rating\": \" 4.00\", \"name\": \"Toyota Land Cruiser Prado\", \"price\": \"88.81\\u00a0Lakh\", \"mileage\": \"11.13\\u00a0km/liter\", \"power\": \"173ps@3400rpm\", \"model\": \"VX L\", \"img\": \"https://i.autoportal.com/i/828282.gif\", \"fuel\": \"diesel\"}, {\"rating\": \" 3.75\", \"name\": \"Mercedes-Benz SLK-Class\", \"price\": \"75.00\\u00a0Lakh\", \"mileage\": \"10.1\\u00a0km/liter\", \"power\": \"310 ps@6500rpm\", \"model\": \"350\", \"img\": \"https://i.autoportal.com/i/828282.gif\", \"fuel\": \"petrol\"}, {\"rating\": \" 3.75\", \"name\": \"Mercedes-Benz S-Class\", \"price\": \"1.14\\u00a0Cr\", \"mileage\": \"13.5\\u00a0km/liter\", \"power\": \"258ps@3600rpm\", \"model\": \"S 350 CDI\", \"img\": \"https://i.autoportal.com/i/828282.gif\", \"fuel\": \"diesel\"}, {\"rating\": \" 3.25\", \"name\": \"Honda CRV\", \"price\": \"23.00\\u00a0Lakh\", \"mileage\": \"13.7\\u00a0km/liter\", \"power\": \"156ps@6500rpm\", \"model\": \"2L AT\", \"img\": \"https://i.autoportal.com/i/828282.gif\", \"fuel\": \"petrol\"}, {\"rating\": \" 3.75\", \"name\": \"BMW X1\", \"price\": \"29.90\\u00a0Lakh\", \"mileage\": \"20.68\\u00a0km/liter\", \"power\": \"190ps@4000rpm\", \"model\": \"20d Expedition\", \"img\": \"https://i.autoportal.com/i/828282.gif\", \"fuel\": \"diesel\"}, {\"rating\": \" 3.25\", \"name\": \"Chevrolet Trailblazer\", \"price\": \"26.99\\u00a0Lakh\", \"mileage\": \"11.45\\u00a0km/liter\", \"power\": \"200ps@3600rpm\", \"model\": \"LTZ AT\", \"img\": \"https://i.autoportal.com/i/828282.gif\", \"fuel\": \"diesel\"}, {\"rating\": \" 4.00\", \"name\": \"Ferrari California T\", \"price\": \"3.30\\u00a0Cr\", \"mileage\": \"9.0\\u00a0km/liter\", \"power\": \"560ps@7500rpm\", \"model\": \"Convertible\", \"img\": \"https://i.autoportal.com/i/828282.gif\", \"fuel\": \"petrol\"}, {\"rating\": \" 4.00\", \"name\": \"Jaguar XF\", \"price\": \"47.67\\u00a0Lakh\", \"mileage\": \"16.36\\u00a0km/liter\", \"power\": \"190ps@3500rpm\", \"model\": \"Executive Edition 2.2\", \"img\": \"https://i.autoportal.com/i/828282.gif\", \"fuel\": \"diesel\"}, {\"rating\": \" 4.00\", \"name\": \"Rolls-Royce Phantom\", \"price\": \"7.55\\u00a0Cr\", \"mileage\": \"23.0\\u00a0km/liter\", \"power\": \"460ps@5350rpm\", \"model\": \"Sedan\", \"img\": \"https://i.autoportal.com/i/828282.gif\", \"fuel\": \"petrol\"}, {\"rating\": \" 3.75\", \"name\": \"Audi TT\", \"price\": \"60.34\\u00a0Lakh\", \"mileage\": \"14.33\\u00a0km/liter\", \"power\": \"230ps@4500-6200rmp\", \"model\": \"45 TFSI\", \"img\": \"https://i.autoportal.com/i/828282.gif\", \"fuel\": \"petrol\"}, {\"rating\": \" 3.75\", \"name\": \"Mitsubishi Pajero Sport\", \"price\": \"26.15\\u00a0Lakh\", \"mileage\": \"10.77\\u00a0km/liter\", \"power\": \"178ps@4000rpm\", \"model\": \"2.5 AT\", \"img\": \"https://i.autoportal.com/i/828282.gif\", \"fuel\": \"diesel\"}, {\"rating\": \" 3.75\", \"name\": \"Mercedes-Benz CLS\", \"price\": \"76.50\\u00a0Lakh\", \"mileage\": \"9.26\\u00a0km/liter\", \"power\": \"204ps@4200rpm\", \"model\": \"250 CDI\", \"img\": \"https://i.autoportal.com/i/828282.gif\", \"fuel\": \"diesel\"}, {\"rating\": \" 4.25\", \"name\": \"Audi A6\", \"price\": \"46.65\\u00a0Lakh\", \"mileage\": \"15.26\\u00a0km/liter\", \"power\": \"190ps@4200-6200rpm\", \"model\": \"35 TFSI\", \"img\": \"https://i.autoportal.com/i/828282.gif\", \"fuel\": \"petrol\"}, {\"rating\": \" 4.00\", \"name\": \"Audi A4\", \"price\": \"31.65\\u00a0Lakh\", \"mileage\": \"16.55\\u00a0km/liter\", \"power\": \"149.5ps@4200rpm\", \"model\": \"35 TFSI PREMIUM\", \"img\": \"https://i.autoportal.com/i/828282.gif\", \"fuel\": \"diesel\"}, {\"rating\": \" 4.00\", \"name\": \"BMW X6\", \"price\": \"1.21\\u00a0Cr\", \"mileage\": \"15.87\\u00a0km/liter\", \"power\": \"313ps@4400rpm\", \"model\": \"xDrive 40d M Sport\", \"img\": \"https://i.autoportal.com/i/828282.gif\", \"fuel\": \"diesel\"}, {\"rating\": \" 3.50\", \"name\": \"BMW i8\", \"price\": \"2.29\\u00a0Cr\", \"mileage\": \"47.45\\u00a0km/liter\", \"power\": \"231bhp@5800rpm\", \"model\": \"Hybrid\", \"img\": \"https://i.autoportal.com/i/828282.gif\", \"fuel\": \"hybrid\"}, {\"rating\": \" 3.75\", \"name\": \"Audi Q5\", \"price\": \"49.46\\u00a0Lakh\", \"mileage\": \"14.16\\u00a0km/liter\", \"power\": \"177ps@4200rpm\", \"model\": \"30 TDI Premium\", \"img\": \"https://i.autoportal.com/i/828282.gif\", \"fuel\": \"diesel\"}, {\"rating\": \" 4.00\", \"name\": \"BMW Z4\", \"price\": \"77.50\\u00a0Lakh\", \"mileage\": \"10.37\\u00a0km/liter\", \"power\": \"306ps@5800rpm\", \"model\": \"35i\", \"img\": \"https://i.autoportal.com/i/828282.gif\", \"fuel\": \"petrol\"}, {\"rating\": \" 3.50\", \"name\": \"Skoda Superb\", \"price\": \"25.13\\u00a0Lakh\", \"mileage\": \"14.67\\u00a0km/liter\", \"power\": \"180ps@5100-6200rpm\", \"model\": \"Style 1.8 TSI AT\", \"img\": \"https://i.autoportal.com/i/828282.gif\", \"fuel\": \"petrol\"}, {\"rating\": \" 4.00\", \"name\": \"BMW X3\", \"price\": \"47.50\\u00a0Lakh\", \"mileage\": \"18.56\\u00a0km/liter\", \"power\": \"190ps@4000rpm\", \"model\": \"xDrive 20d Expedition\", \"img\": \"https://i.autoportal.com/i/828282.gif\", \"fuel\": \"diesel\"}, {\"rating\": \" 3.50\", \"name\": \"Mercedes-Benz GLA-Class\", \"price\": \"31.90\\u00a0Lakh\", \"mileage\": \"17.9\\u00a0km/liter\", \"power\": \"136ps@3400-4000rpm\", \"model\": \"200 CDI Style\", \"img\": \"https://i.autoportal.com/i/828282.gif\", \"fuel\": \"diesel\"}, {\"rating\": \" 4.50\", \"name\": \"Bentley Bentayga\", \"price\": \"3.85\\u00a0Cr\", \"mileage\": \"19.0\\u00a0km/liter\", \"power\": \"608ps@5000-6000rpm\", \"model\": \"W12\", \"img\": \"https://i.autoportal.com/i/828282.gif\", \"fuel\": \"petrol\"}, {\"rating\": \" 3.50\", \"name\": \"Mercedes-Benz CLA-Class\", \"price\": \"31.50\\u00a0Lakh\", \"mileage\": \"17.9\\u00a0km/liter\", \"power\": \"136ps@3600-4400rpm\", \"model\": \"200 CDI Style\", \"img\": \"https://i.autoportal.com/i/828282.gif\", \"fuel\": \"diesel\"}, {\"rating\": \" 3.75\", \"name\": \"Volvo S60\", \"price\": \"30.89\\u00a0Lakh\", \"mileage\": \"21.7\\u00a0km/liter\", \"power\": \"181ps@4250rpm\", \"model\": \"Kinetic D4\", \"img\": \"https://i.autoportal.com/i/828282.gif\", \"fuel\": \"diesel\"}, {\"rating\": \" 4.00\", \"name\": \"Lamborghini Aventador\", \"price\": \"5.62\\u00a0Cr\", \"mileage\": \"8.8\\u00a0km/liter\", \"power\": \"700 ps @ 8250rpm\", \"model\": \"LP700-4 Roadster\", \"img\": \"https://i.autoportal.com/i/828282.gif\", \"fuel\": \"petrol\"}, {\"rating\": \" 4.00\", \"name\": \"Ferrari F12 Berlinetta\", \"price\": \"4.72\\u00a0Cr\", \"mileage\": \"5.5\\u00a0km/liter\", \"power\": \"741ps@8250rpm\", \"model\": \"V12\", \"img\": \"https://i.autoportal.com/i/828282.gif\", \"fuel\": \"petrol\"}, {\"rating\": \" 3.75\", \"name\": \"Mercedes-Benz E-Class\", \"price\": \"48.50\\u00a0Lakh\", \"mileage\": \"12.0\\u00a0km/liter\", \"power\": \"184ps@5500rpm\", \"model\": \"200 Edition E\", \"img\": \"https://i.autoportal.com/i/828282.gif\", \"fuel\": \"petrol\"}, {\"rating\": \" 3.75\", \"name\": \"Audi RS7\", \"price\": \"1.40\\u00a0Cr\", \"mileage\": \"9.8\\u00a0km/liter\", \"power\": \"560bhp@5700-6600rpm\", \"model\": \"Sportback\", \"img\": \"https://i.autoportal.com/i/828282.gif\", \"fuel\": \"petrol\"}, {\"rating\": \" 3.75\", \"name\": \"BMW X5\", \"price\": \"67.90\\u00a0Lakh\", \"mileage\": \"15.97\\u00a0km/liter\", \"power\": \"258ps@4000rpm\", \"model\": \"xDrive30d Expedition\", \"img\": \"https://i.autoportal.com/i/828282.gif\", \"fuel\": \"diesel\"}, {\"rating\": \" 4.00\", \"name\": \"Land Rover Discovery Sport\", \"price\": \"46.10\\u00a0Lakh\", \"mileage\": \"12.83\\u00a0km/liter\", \"power\": \"150ps@4000rpm\", \"model\": \"S\", \"img\": \"https://i.autoportal.com/i/828282.gif\", \"fuel\": \"diesel\"}, {\"rating\": \" 3.75\", \"name\": \"Land Rover Range Rover\", \"price\": \"1.83\\u00a0Cr\", \"mileage\": \"11.6\\u00a0km/liter\", \"power\": \"182ps@4000rpm\", \"model\": \"3.0 HSE\", \"img\": \"https://i.autoportal.com/i/828282.gif\", \"fuel\": \"diesel\"}, {\"rating\": \" 3.75\", \"name\": \"Jaguar F-Type\", \"price\": \"1.26\\u00a0Cr\", \"mileage\": \"14.3\\u00a0km/liter\", \"power\": \"340 ps @6500rpm\", \"model\": \"3.0 S/C Coupe (ST1 340 PS)\", \"img\": \"https://i.autoportal.com/i/828282.gif\", \"fuel\": \"petrol\"}, {\"rating\": \" 4.25\", \"name\": \"Ferrari 458 Spider\", \"price\": \"4.07\\u00a0Cr\", \"mileage\": \"5.5\\u00a0km/liter\", \"power\": \"669ps@8000rpm\", \"model\": \"V8\", \"img\": \"https://i.autoportal.com/i/828282.gif\", \"fuel\": \"petrol\"}, {\"rating\": \" 3.75\", \"name\": \"BMW M3\", \"price\": \"1.20\\u00a0Cr\", \"mileage\": \"10.75\\u00a0km/liter\", \"power\": \"431ps@ 5500-7300\", \"model\": \"Sedan\", \"img\": \"https://i.autoportal.com/i/828282.gif\", \"fuel\": \"petrol\"}, {\"rating\": \" 3.50\", \"name\": \"Isuzu MU-7\", \"price\": \"23.90\\u00a0Lakh\", \"mileage\": \"10.3\\u00a0km/liter\", \"power\": \"163ps@3600rpm\", \"model\": \"Premium BS4 4x2 AT\", \"img\": \"https://i.autoportal.com/i/828282.gif\", \"fuel\": \"diesel\"}, {\"rating\": \" \", \"name\": \"Mercedes-Benz GLC\", \"price\": \"56.01\\u00a0Lakh\", \"power\": \"245ps@5500rpm\", \"model\": \"300\", \"img\": \"https://i.autoportal.com/i/828282.gif\", \"fuel\": \"petrol\"}, {\"rating\": \" 3.75\", \"name\": \"Land Rover Freelander 2\", \"price\": \"42.34\\u00a0Lakh\", \"mileage\": \"12.39\\u00a0km/liter\", \"power\": \"110ps@4000rpm\", \"model\": \"S BE\", \"img\": \"https://i.autoportal.com/i/828282.gif\", \"fuel\": \"diesel\"}, {\"rating\": \" 3.75\", \"name\": \"Volvo V40 Cross Country\", \"price\": \"27.30\\u00a0Lakh\", \"mileage\": \"16\\u00a0km/liter\", \"power\": \"180ps@5700rpm\", \"model\": \"T4\", \"img\": \"https://i.autoportal.com/i/828282.gif\", \"fuel\": \"petrol\"}, {\"rating\": \" 4.00\", \"name\": \"Aston Martin Rapide\", \"price\": \"3.50\\u00a0Cr\", \"mileage\": \"12.9\\u00a0km/liter\", \"power\": \"560ps@6650rpm\", \"model\": \"LUXE\", \"img\": \"https://i.autoportal.com/i/828282.gif\", \"fuel\": \"petrol\"}, {\"rating\": \" 4.50\", \"name\": \"Aston Martin Vanquish\", \"price\": \"2.04\\u00a0Cr\", \"mileage\": \"9.1\\u00a0km/liter\", \"power\": \"568ps@6650rpm\", \"model\": \"Volante\", \"img\": \"https://i.autoportal.com/i/828282.gif\", \"fuel\": \"petrol\"}, {\"rating\": \" 4.00\", \"name\": \"Volvo XC90\", \"price\": \"70.97\\u00a0Lakh\", \"mileage\": \"17.2\\u00a0km/liter\", \"power\": \"225bhp@4250 rpm\", \"model\": \"D5 Momentum\", \"img\": \"https://i.autoportal.com/i/828282.gif\", \"fuel\": \"diesel\"}, {\"rating\": \" 3.75\", \"name\": \"BMW M5\", \"price\": \"1.36\\u00a0Cr\", \"mileage\": \"10.10\\u00a0km/liter\", \"power\": \"560ps@ 6000-7000rpm\", \"model\": \"Sedan\", \"img\": \"https://i.autoportal.com/i/828282.gif\", \"fuel\": \"petrol\"}, {\"rating\": \" 3.75\", \"name\": \"Toyota Prius\", \"price\": \"38.10\\u00a0Lakh\", \"mileage\": \"23.9\\u00a0km/liter\", \"power\": \"178ps@5200rpm\", \"model\": \"Z5\", \"img\": \"https://i.autoportal.com/i/828282.gif\", \"fuel\": \"hybrid\"}, {\"rating\": \" 4.00\", \"name\": \"Mercedes-Benz Maybach\", \"price\": \"1.70\\u00a0Cr\", \"mileage\": \"7.8\\u00a0km/liter\", \"power\": \"453ps@5250-5500rpm\", \"model\": \"S500\", \"img\": \"https://i.autoportal.com/i/828282.gif\", \"fuel\": \"petrol\"}, {\"rating\": \" 4.75\", \"name\": \"Mercedes-Benz GLE-Class\", \"price\": \"58.90\\u00a0Lakh\", \"mileage\": \"17.9\\u00a0km/liter\", \"power\": \"204bhp@3800rpm\", \"model\": \"250 d 4 MATIC\", \"img\": \"https://i.autoportal.com/i/828282.gif\", \"fuel\": \"diesel\"}, {\"rating\": \" 3.75\", \"name\": \"Porsche Cayenne\", \"price\": \"1.04\\u00a0Cr\", \"mileage\": \"13.8\\u00a0km/liter\", \"power\": \"245ps@3800-4400rpm\", \"model\": \"Diesel\", \"img\": \"https://i.autoportal.com/i/828282.gif\", \"fuel\": \"diesel\"}, {\"rating\": \" 3.75\", \"name\": \"Mercedes-Benz G-Class\", \"price\": \"1.91\\u00a0Cr\", \"mileage\": \"17.2\\u00a0km/liter\", \"power\": \"544ps@5500rpm\", \"model\": \"G 63 AMG\", \"img\": \"https://i.autoportal.com/i/828282.gif\", \"fuel\": \"petrol\"}, {\"rating\": \" 4.00\", \"name\": \"Porsche 911\", \"price\": \"1.38\\u00a0Cr\", \"mileage\": \"10.1\\u00a0km/liter\", \"power\": \"370ps@6500rpm\", \"model\": \"Carrera\", \"img\": \"https://i.autoportal.com/i/828282.gif\", \"fuel\": \"petrol\"}, {\"rating\": \" 4.00\", \"name\": \"Porsche Panamera\", \"price\": \"1.15\\u00a0Cr\", \"mileage\": \"12.1\\u00a0km/liter\", \"power\": \"300.34ps@ 4000rpm\", \"model\": \"Diesel Edition\", \"img\": \"https://i.autoportal.com/i/828282.gif\", \"fuel\": \"diesel\"}, {\"rating\": \" 3.75\", \"name\": \"Volvo XC60\", \"price\": \"44.81\\u00a0Lakh\", \"mileage\": \"20.0\\u00a0km/liter\", \"power\": \"181ps@4000rpm\", \"model\": \"Kinetic D4\", \"img\": \"https://i.autoportal.com/i/828282.gif\", \"fuel\": \"diesel\"}, {\"rating\": \" 3.75\", \"name\": \"Audi A8L\", \"price\": \"1.17\\u00a0Cr\", \"mileage\": \"16.77\\u00a0km/liter\", \"power\": \"250ps@4000-4250rpm\", \"model\": \"50 TDI quattro\", \"img\": \"https://i.autoportal.com/i/828282.gif\", \"fuel\": \"diesel\"}, {\"rating\": \" 3.75\", \"name\": \"Volvo S80\", \"price\": \"44.58\\u00a0Lakh\", \"mileage\": \"16.0\\u00a0km/liter\", \"power\": \"165ps@3500rpm\", \"model\": \"Summum D4\", \"img\": \"https://i.autoportal.com/i/828282.gif\", \"fuel\": \"diesel\"}, {\"rating\": \" 3.50\", \"name\": \"Fiat Abarth 595\", \"price\": \"30.15\\u00a0Lakh\", \"mileage\": \"16.3\\u00a0km/liter\", \"power\": \"160ps@5500rpm\", \"model\": \"Competizione\", \"img\": \"https://i.autoportal.com/i/828282.gif\", \"fuel\": \"petrol\"}, {\"rating\": \" 4.00\", \"name\": \"Bentley Mulsanne\", \"price\": \"5.55\\u00a0Cr\", \"mileage\": \"9.5\\u00a0km/liter\", \"power\": \"512ps@4200rpm\", \"model\": \"Sedan\", \"img\": \"https://i.autoportal.com/i/828282.gif\", \"fuel\": \"petrol\"}, {\"rating\": \" 4.00\", \"name\": \"BMW 7-Series\", \"price\": \"1.14\\u00a0Cr\", \"power\": \"265ps@4000rpm\", \"model\": \"730Ld Design Pure Excellence\", \"img\": \"https://i.autoportal.com/i/828282.gif\", \"fuel\": \"diesel\"}, {\"rating\": \" 3.50\", \"name\": \"Volvo V40\", \"price\": \"25.49\\u00a0Lakh\", \"mileage\": \"16.81\\u00a0km/liter\", \"power\": \"150ps@150rpm\", \"model\": \"Kinetic\", \"img\": \"https://i.autoportal.com/i/828282.gif\", \"fuel\": \"diesel\"}, {\"rating\": \" 4.50\", \"name\": \"Ferrari 458 Speciale\", \"price\": \"4.07\\u00a0Cr\", \"mileage\": \"9.0\\u00a0km/liter\", \"power\": \"605ps@9000rpm\", \"model\": \"Coupe\", \"img\": \"https://i.autoportal.com/i/828282.gif\", \"fuel\": \"petrol\"}, {\"rating\": \" 4.00\", \"name\": \"Audi RS6\", \"price\": \"1.37\\u00a0Cr\", \"mileage\": \"9.6\\u00a0km/liter\", \"power\": \"560bhp@5700-6600rpm\", \"model\": \"Avant\", \"img\": \"https://i.autoportal.com/i/828282.gif\", \"fuel\": \"petrol\"}, {\"rating\": \" 4.25\", \"name\": \"Ferrari 488 GTB\", \"price\": \"3.88\\u00a0Cr\", \"mileage\": \"5.5\\u00a0km/liter\", \"power\": \"670ps@8000rpm\", \"model\": \"STD\", \"img\": \"https://i.autoportal.com/i/828282.gif\", \"fuel\": \"petrol\"}, {\"rating\": \" 3.75\", \"name\": \"Land Rover Range Rover Evoque\", \"price\": \"47.10\\u00a0Lakh\", \"mileage\": \"12.70\\u00a0km/liter\", \"power\": \"140ps@3500rpm\", \"model\": \"Pure\", \"img\": \"https://i.autoportal.com/i/828282.gif\", \"fuel\": \"diesel\"}, {\"rating\": \" 4.00\", \"name\": \"Mercedes-Benz B-Class\", \"price\": \"29.45\\u00a0Lakh\", \"mileage\": \"14.81\\u00a0km/liter\", \"power\": \"122ps@5000rpm\", \"model\": \"B 180 Sport\", \"img\": \"https://i.autoportal.com/i/828282.gif\", \"fuel\": \"petrol\"}, {\"rating\": \" 4.00\", \"name\": \"Maserati Quattroporte\", \"price\": \"1.52\\u00a0Cr\", \"mileage\": \"7.9\\u00a0km/liter\", \"power\": \"275ps@7000rpm\", \"model\": \"Diesel\", \"img\": \"https://i.autoportal.com/i/828282.gif\", \"fuel\": \"diesel\"}, {\"rating\": \" 4.25\", \"name\": \"Jaguar XE\", \"price\": \"39.90\\u00a0Lakh\", \"mileage\": \"13.06\\u00a0km/liter\", \"power\": \"199ps@5500rpm\", \"model\": \"2.0L Petrol Pure\", \"img\": \"https://i.autoportal.com/i/828282.gif\", \"fuel\": \"petrol\"}, {\"rating\": \" 4.00\", \"name\": \"Maserati GranTurismo\", \"price\": \"1.82\\u00a0Cr\", \"mileage\": \"10.0\\u00a0km/liter\", \"power\": \"460ps@ 7000rpm\", \"model\": \"Sport\", \"img\": \"https://i.autoportal.com/i/828282.gif\", \"fuel\": \"petrol\"}, {\"rating\": \" 4.50\", \"name\": \"Audi S5\", \"price\": \"62.95\\u00a0Lakh\", \"mileage\": \"12.28\\u00a0km/liter\", \"power\": \"333ps@5500-6500rpm\", \"model\": \"Sportback 3.0 TFSI Quattro\", \"img\": \"https://i.autoportal.com/i/828282.gif\", \"fuel\": \"petrol\"}, {\"rating\": \" 4.75\", \"name\": \"BMW X6 M\", \"price\": \"1.67\\u00a0Cr\", \"mileage\": \"9.0\\u00a0km/liter\", \"power\": \"575bhp@6000-6500rpm\", \"model\": \"Petrol\", \"img\": \"https://i.autoportal.com/i/828282.gif\", \"fuel\": \"petrol\"}, {\"rating\": \" 3.75\", \"name\": \"Mini Countryman\", \"price\": \"36.50\\u00a0Lakh\", \"mileage\": \"15.6\\u00a0km/liter\", \"power\": \"112 ps\", \"model\": \"Cooper D\", \"img\": \"https://i.autoportal.com/i/828282.gif\", \"fuel\": \"diesel\"}, {\"rating\": \" 3.75\", \"name\": \"Audi Q7\", \"price\": \"72.00\\u00a0Lakh\", \"mileage\": \"14.75\\u00a0km/liter\", \"power\": \"249ps@2910-4500rpm\", \"model\": \"Premium Plus\", \"img\": \"https://i.autoportal.com/i/828282.gif\", \"fuel\": \"diesel\"}, {\"rating\": \" 3.75\", \"name\": \"Mercedes-Benz A-Class\", \"price\": \"27.45\\u00a0Lakh\", \"mileage\": \"15.50\\u00a0km/liter\", \"power\": \"122ps@5000rpm\", \"model\": \"180\", \"img\": \"https://i.autoportal.com/i/828282.gif\", \"fuel\": \"petrol\"}, {\"rating\": \" 3.75\", \"name\": \"Volkswagen Beetle\", \"price\": \"30.31\\u00a0Lakh\", \"mileage\": \"13.6\\u00a0km/liter\", \"power\": \"150ps@5000-6000rpm\", \"model\": \"1.4 TSI\", \"img\": \"https://i.autoportal.com/i/828282.gif\", \"fuel\": \"petrol\"}, {\"rating\": \" 4.00\", \"name\": \"Rolls-Royce Wraith\", \"price\": \"5.28\\u00a0Cr\", \"mileage\": \"10.2\\u00a0km/liter\", \"power\": \"625ps@5600rpm\", \"model\": \"Coupe\", \"img\": \"https://i.autoportal.com/i/828282.gif\", \"fuel\": \"petrol\"}, {\"rating\": \" 4.50\", \"name\": \"Jaguar XJ\", \"price\": \"98.03\\u00a0Lakh\", \"mileage\": \"12.9\\u00a0km/liter\", \"power\": \"274ps@4000 rpm\", \"model\": \"3.0L\", \"img\": \"https://i.autoportal.com/i/828282.gif\", \"fuel\": \"diesel\"}, {\"rating\": \" 3.75\", \"name\": \"Porsche Macan\", \"price\": \"1.00\\u00a0Cr\", \"mileage\": \"14.9\\u00a0km/liter\", \"power\": \"245ps@4000-5000rpm\", \"model\": \"S\", \"img\": \"https://i.autoportal.com/i/828282.gif\", \"fuel\": \"diesel\"}, {\"rating\": \" 3.75\", \"name\": \"BMW M6\", \"price\": \"1.77\\u00a0Cr\", \"mileage\": \"10.1\\u00a0km/liter\", \"power\": \"560ps@6000-7000rpm\", \"model\": \"Standard\", \"img\": \"https://i.autoportal.com/i/828282.gif\", \"fuel\": \"petrol\"}, {\"rating\": \" \", \"name\": \"Mini 5 Door\", \"price\": \"31.90\\u00a0Lakh\", \"mileage\": \"21.5\\u00a0km/liter\", \"power\": \"116ps@4000rpm\", \"model\": \"Cooper D\", \"img\": \"https://i.autoportal.com/i/828282.gif\", \"fuel\": \"petrol\"}, {\"rating\": \" 4.00\", \"name\": \"Porsche Boxster\", \"price\": \"78.38\\u00a0Lakh\", \"mileage\": \"11.36\\u00a0km/liter\", \"power\": \"265 ps @ 6700rpm\", \"model\": \"Base Tiptronic\", \"img\": \"https://i.autoportal.com/i/828282.gif\", \"fuel\": \"petrol\"}, {\"rating\": \" \", \"name\": \"Mini 3 Door\", \"price\": \"28.50\\u00a0Lakh\", \"mileage\": \"21.15\\u00a0km/liter\", \"power\": \"115ps@ 4000rpm\", \"model\": \"Cooper D\", \"img\": \"https://i.autoportal.com/i/828282.gif\", \"fuel\": \"diesel\"}, {\"rating\": \" 3.75\", \"name\": \"Aston Martin V12 Vantage S\", \"price\": \"2.75\\u00a0Cr\", \"mileage\": \"10.2\\u00a0km/liter\", \"power\": \"573ps@6750rpm\", \"model\": \"Roadster\", \"img\": \"https://i.autoportal.com/i/828282.gif\", \"fuel\": \"petrol\"}, {\"rating\": \" 4.00\", \"name\": \"Maserati Ghibli\", \"price\": \"1.14\\u00a0Cr\", \"power\": \"275ps@4000rpm\", \"model\": \"Diesel\", \"img\": \"https://i.autoportal.com/i/828282.gif\", \"fuel\": \"diesel\"}, {\"rating\": \" 3.50\", \"name\": \"Rolls-Royce Ghost Series II\", \"price\": \"4.93\\u00a0Cr\", \"mileage\": \"17.3\\u00a0km/liter\", \"power\": \"563ps@5250rpm\", \"model\": \"6.6\", \"img\": \"https://i.autoportal.com/i/828282.gif\", \"fuel\": \"petrol\"}, {\"rating\": \" 3.75\", \"name\": \"Mini Convertible\", \"price\": \"34.90\\u00a0Lakh\", \"mileage\": \"14.59\\u00a0km/liter\", \"power\": \"191ps@6000rpm\", \"model\": \"S\", \"img\": \"https://i.autoportal.com/i/828282.gif\", \"fuel\": \"petrol\"}, {\"rating\": \" 4.25\", \"name\": \"Aston Martin DB9\", \"price\": \"2.90\\u00a0Cr\", \"mileage\": \"8\\u00a0km/liter\", \"power\": \"517ps@6500rpm\", \"model\": \"Coupe\", \"img\": \"https://i.autoportal.com/i/828282.gif\", \"fuel\": \"petrol\"}, {\"rating\": \" 4.00\", \"name\": \"Maserati GranCabrio\", \"price\": \"2.10\\u00a0Cr\", \"mileage\": \"9.8\\u00a0km/liter\", \"power\": \"450ps@7000rpm\", \"model\": \"Standard\", \"img\": \"https://i.autoportal.com/i/828282.gif\", \"fuel\": \"petrol\"}, {\"rating\": \" 4.00\", \"name\": \"Volvo S60 Cross Country\", \"price\": \"38.90\\u00a0Lakh\", \"mileage\": \"19.6\\u00a0km/liter\", \"power\": \"190bhp@4000rpm\", \"model\": \"D4\", \"img\": \"https://i.autoportal.com/i/828282.gif\", \"fuel\": \"diesel\"}, {\"rating\": \" 4.25\", \"name\": \"BMW Gran Turismo\", \"price\": \"39.90\\u00a0Lakh\", \"mileage\": \"21.76\\u00a0km/liter\", \"power\": \"190ps@4000rpm\", \"model\": \"Sport Line\", \"img\": \"https://i.autoportal.com/i/828282.gif\", \"fuel\": \"diesel\"}, {\"rating\": \" 4.00\", \"name\": \"Rolls-Royce Drophead Coupe\", \"price\": \"4.00\\u00a0Cr\", \"mileage\": \"9.8\\u00a0km/liter\", \"power\": \"453ps@5350rpm\", \"model\": \"Phantom\", \"img\": \"https://i.autoportal.com/i/828282.gif\", \"fuel\": \"petrol\"}, {\"rating\": \" 4.25\", \"name\": \"Mercedes-Benz AMG-GT\", \"price\": \"2.40\\u00a0Cr\", \"mileage\": \"7.8\\u00a0km/liter\", \"power\": \"510ps@6250rpm\", \"model\": \"S\", \"img\": \"https://i.autoportal.com/i/828282.gif\", \"fuel\": \"petrol\"}, {\"rating\": \" 4.00\", \"name\": \"Bentley Flying Spur\", \"price\": \"3.21\\u00a0Cr\", \"mileage\": \"4\\u00a0km/liter\", \"power\": \"507ps@6000rpm\", \"model\": \"V8\", \"img\": \"https://i.autoportal.com/i/828282.gif\", \"fuel\": \"petrol\"}, {\"rating\": \" \", \"name\": \"Land Rover Discovery\", \"price\": \"1.11\\u00a0Cr\", \"mileage\": \"11.4\\u00a0km/liter\", \"power\": \"247ps@4000rpm\", \"model\": \"SE\", \"img\": \"https://i.autoportal.com/i/828282.gif\", \"fuel\": \"diesel\"}, {\"rating\": \" 4.00\", \"name\": \"BMW 6-Series\", \"price\": \"1.12\\u00a0Cr\", \"mileage\": \"17.54\\u00a0km/liter\", \"power\": \"313bhp@4400rpm\", \"model\": \"640d Eminence\", \"img\": \"https://i.autoportal.com/i/828282.gif\", \"fuel\": \"diesel\"}, {\"rating\": \" 4.75\", \"name\": \"BMW X5 M\", \"price\": \"1.62\\u00a0Cr\", \"mileage\": \"9.0\\u00a0km/liter\", \"power\": \"575bhp@6000-6500rpm\", \"model\": \"Petrol\", \"img\": \"https://i.autoportal.com/i/828282.gif\", \"fuel\": \"petrol\"}, {\"rating\": \" \", \"name\": \"Rolls-Royce Dawn\", \"price\": \"6.25\\u00a0Cr\", \"mileage\": \"7.9\\u00a0km/liter\", \"power\": \"571ps@5250-6000\", \"model\": \"Convertible\", \"img\": \"https://i.autoportal.com/i/828282.gif\", \"fuel\": \"petrol\"}])"
   ]
  },
  {
   "cell_type": "markdown",
   "metadata": {},
   "source": [
    "## Basic Information\n",
    "\n",
    "**Methods and properties to extract basic information about the dataframe**"
   ]
  },
  {
   "cell_type": "code",
   "execution_count": 5,
   "metadata": {
    "collapsed": false
   },
   "outputs": [
    {
     "name": "stdout",
     "output_type": "stream",
     "text": [
      "<class 'pandas.core.frame.DataFrame'>\n",
      "RangeIndex: 152 entries, 0 to 151\n",
      "Data columns (total 8 columns):\n",
      "fuel       152 non-null object\n",
      "img        152 non-null object\n",
      "mileage    146 non-null object\n",
      "model      152 non-null object\n",
      "name       152 non-null object\n",
      "power      152 non-null object\n",
      "price      152 non-null object\n",
      "rating     152 non-null object\n",
      "dtypes: object(8)\n",
      "memory usage: 9.6+ KB\n"
     ]
    }
   ],
   "source": [
    "# Get basic info about the dataframe using the .info() method\n",
    "cars.info()"
   ]
  },
  {
   "cell_type": "code",
   "execution_count": 6,
   "metadata": {
    "collapsed": false
   },
   "outputs": [
    {
     "data": {
      "text/plain": [
       "(152, 8)"
      ]
     },
     "execution_count": 6,
     "metadata": {},
     "output_type": "execute_result"
    }
   ],
   "source": [
    "# .shape property returns the (# of rows, # columns) as a tuple\n",
    "cars.shape"
   ]
  },
  {
   "cell_type": "code",
   "execution_count": 7,
   "metadata": {
    "collapsed": false
   },
   "outputs": [
    {
     "data": {
      "text/plain": [
       "fuel       object\n",
       "img        object\n",
       "mileage    object\n",
       "model      object\n",
       "name       object\n",
       "power      object\n",
       "price      object\n",
       "rating     object\n",
       "dtype: object"
      ]
     },
     "execution_count": 7,
     "metadata": {},
     "output_type": "execute_result"
    }
   ],
   "source": [
    "# You can view the datatype of every column using the .dtypes\n",
    "cars.dtypes\n",
    "# Here, in this particular case, you will get everything as an object since the datatypes have not been modified"
   ]
  },
  {
   "cell_type": "code",
   "execution_count": 8,
   "metadata": {
    "collapsed": false
   },
   "outputs": [
    {
     "data": {
      "text/html": [
       "<div>\n",
       "<table border=\"1\" class=\"dataframe\">\n",
       "  <thead>\n",
       "    <tr style=\"text-align: right;\">\n",
       "      <th></th>\n",
       "      <th>fuel</th>\n",
       "      <th>img</th>\n",
       "      <th>mileage</th>\n",
       "      <th>model</th>\n",
       "      <th>name</th>\n",
       "      <th>power</th>\n",
       "      <th>price</th>\n",
       "      <th>rating</th>\n",
       "    </tr>\n",
       "  </thead>\n",
       "  <tbody>\n",
       "    <tr>\n",
       "      <th>count</th>\n",
       "      <td>152</td>\n",
       "      <td>152</td>\n",
       "      <td>146</td>\n",
       "      <td>152</td>\n",
       "      <td>152</td>\n",
       "      <td>152</td>\n",
       "      <td>152</td>\n",
       "      <td>152</td>\n",
       "    </tr>\n",
       "    <tr>\n",
       "      <th>unique</th>\n",
       "      <td>4</td>\n",
       "      <td>1</td>\n",
       "      <td>118</td>\n",
       "      <td>128</td>\n",
       "      <td>152</td>\n",
       "      <td>138</td>\n",
       "      <td>143</td>\n",
       "      <td>8</td>\n",
       "    </tr>\n",
       "    <tr>\n",
       "      <th>top</th>\n",
       "      <td>petrol</td>\n",
       "      <td>https://i.autoportal.com/i/828282.gif</td>\n",
       "      <td>9.0 km/liter</td>\n",
       "      <td>S</td>\n",
       "      <td>Toyota Land Cruiser</td>\n",
       "      <td>112ps@6300rpm</td>\n",
       "      <td>1.14 Cr</td>\n",
       "      <td>3.75</td>\n",
       "    </tr>\n",
       "    <tr>\n",
       "      <th>freq</th>\n",
       "      <td>84</td>\n",
       "      <td>152</td>\n",
       "      <td>5</td>\n",
       "      <td>5</td>\n",
       "      <td>1</td>\n",
       "      <td>3</td>\n",
       "      <td>3</td>\n",
       "      <td>47</td>\n",
       "    </tr>\n",
       "  </tbody>\n",
       "</table>\n",
       "</div>"
      ],
      "text/plain": [
       "          fuel                                    img       mileage model  \\\n",
       "count      152                                    152           146   152   \n",
       "unique       4                                      1           118   128   \n",
       "top     petrol  https://i.autoportal.com/i/828282.gif  9.0 km/liter     S   \n",
       "freq        84                                    152             5     5   \n",
       "\n",
       "                       name          power    price rating  \n",
       "count                   152            152      152    152  \n",
       "unique                  152            138      143      8  \n",
       "top     Toyota Land Cruiser  112ps@6300rpm  1.14 Cr   3.75  \n",
       "freq                      1              3        3     47  "
      ]
     },
     "execution_count": 8,
     "metadata": {},
     "output_type": "execute_result"
    }
   ],
   "source": [
    "cars.describe()\n",
    "# gets the basic statistical information about the dataframe\n",
    "# This will get all the basic statistical information for columns which mainly have numberic data, string data\n",
    "#   doesn't really matter that much."
   ]
  },
  {
   "cell_type": "code",
   "execution_count": 9,
   "metadata": {
    "collapsed": false
   },
   "outputs": [
    {
     "data": {
      "text/plain": [
       "['fuel', 'img', 'mileage', 'model', 'name', 'power', 'price', 'rating']"
      ]
     },
     "execution_count": 9,
     "metadata": {},
     "output_type": "execute_result"
    }
   ],
   "source": [
    "# View all the column names/title for the dataframe\n",
    "cars.columns\n",
    "\n",
    "# you can also view them as a list\n",
    "list(cars.columns)"
   ]
  },
  {
   "cell_type": "markdown",
   "metadata": {},
   "source": [
    "## Selection\n",
    "\n",
    "**Selection operations on dataframe**"
   ]
  },
  {
   "cell_type": "code",
   "execution_count": 10,
   "metadata": {
    "collapsed": false
   },
   "outputs": [
    {
     "data": {
      "text/html": [
       "<div>\n",
       "<table border=\"1\" class=\"dataframe\">\n",
       "  <thead>\n",
       "    <tr style=\"text-align: right;\">\n",
       "      <th></th>\n",
       "      <th>fuel</th>\n",
       "      <th>img</th>\n",
       "      <th>mileage</th>\n",
       "      <th>model</th>\n",
       "      <th>name</th>\n",
       "      <th>power</th>\n",
       "      <th>price</th>\n",
       "      <th>rating</th>\n",
       "    </tr>\n",
       "  </thead>\n",
       "  <tbody>\n",
       "    <tr>\n",
       "      <th>83</th>\n",
       "      <td>diesel</td>\n",
       "      <td>https://i.autoportal.com/i/828282.gif</td>\n",
       "      <td>21.7 km/liter</td>\n",
       "      <td>Kinetic D4</td>\n",
       "      <td>Volvo S60</td>\n",
       "      <td>181ps@4250rpm</td>\n",
       "      <td>30.89 Lakh</td>\n",
       "      <td>3.75</td>\n",
       "    </tr>\n",
       "    <tr>\n",
       "      <th>84</th>\n",
       "      <td>petrol</td>\n",
       "      <td>https://i.autoportal.com/i/828282.gif</td>\n",
       "      <td>8.8 km/liter</td>\n",
       "      <td>LP700-4 Roadster</td>\n",
       "      <td>Lamborghini Aventador</td>\n",
       "      <td>700 ps @ 8250rpm</td>\n",
       "      <td>5.62 Cr</td>\n",
       "      <td>4.00</td>\n",
       "    </tr>\n",
       "    <tr>\n",
       "      <th>85</th>\n",
       "      <td>petrol</td>\n",
       "      <td>https://i.autoportal.com/i/828282.gif</td>\n",
       "      <td>5.5 km/liter</td>\n",
       "      <td>V12</td>\n",
       "      <td>Ferrari F12 Berlinetta</td>\n",
       "      <td>741ps@8250rpm</td>\n",
       "      <td>4.72 Cr</td>\n",
       "      <td>4.00</td>\n",
       "    </tr>\n",
       "    <tr>\n",
       "      <th>86</th>\n",
       "      <td>petrol</td>\n",
       "      <td>https://i.autoportal.com/i/828282.gif</td>\n",
       "      <td>12.0 km/liter</td>\n",
       "      <td>200 Edition E</td>\n",
       "      <td>Mercedes-Benz E-Class</td>\n",
       "      <td>184ps@5500rpm</td>\n",
       "      <td>48.50 Lakh</td>\n",
       "      <td>3.75</td>\n",
       "    </tr>\n",
       "    <tr>\n",
       "      <th>87</th>\n",
       "      <td>petrol</td>\n",
       "      <td>https://i.autoportal.com/i/828282.gif</td>\n",
       "      <td>9.8 km/liter</td>\n",
       "      <td>Sportback</td>\n",
       "      <td>Audi RS7</td>\n",
       "      <td>560bhp@5700-6600rpm</td>\n",
       "      <td>1.40 Cr</td>\n",
       "      <td>3.75</td>\n",
       "    </tr>\n",
       "    <tr>\n",
       "      <th>88</th>\n",
       "      <td>diesel</td>\n",
       "      <td>https://i.autoportal.com/i/828282.gif</td>\n",
       "      <td>15.97 km/liter</td>\n",
       "      <td>xDrive30d Expedition</td>\n",
       "      <td>BMW X5</td>\n",
       "      <td>258ps@4000rpm</td>\n",
       "      <td>67.90 Lakh</td>\n",
       "      <td>3.75</td>\n",
       "    </tr>\n",
       "    <tr>\n",
       "      <th>89</th>\n",
       "      <td>diesel</td>\n",
       "      <td>https://i.autoportal.com/i/828282.gif</td>\n",
       "      <td>12.83 km/liter</td>\n",
       "      <td>S</td>\n",
       "      <td>Land Rover Discovery Sport</td>\n",
       "      <td>150ps@4000rpm</td>\n",
       "      <td>46.10 Lakh</td>\n",
       "      <td>4.00</td>\n",
       "    </tr>\n",
       "    <tr>\n",
       "      <th>90</th>\n",
       "      <td>diesel</td>\n",
       "      <td>https://i.autoportal.com/i/828282.gif</td>\n",
       "      <td>11.6 km/liter</td>\n",
       "      <td>3.0 HSE</td>\n",
       "      <td>Land Rover Range Rover</td>\n",
       "      <td>182ps@4000rpm</td>\n",
       "      <td>1.83 Cr</td>\n",
       "      <td>3.75</td>\n",
       "    </tr>\n",
       "  </tbody>\n",
       "</table>\n",
       "</div>"
      ],
      "text/plain": [
       "      fuel                                    img         mileage  \\\n",
       "83  diesel  https://i.autoportal.com/i/828282.gif   21.7 km/liter   \n",
       "84  petrol  https://i.autoportal.com/i/828282.gif    8.8 km/liter   \n",
       "85  petrol  https://i.autoportal.com/i/828282.gif    5.5 km/liter   \n",
       "86  petrol  https://i.autoportal.com/i/828282.gif   12.0 km/liter   \n",
       "87  petrol  https://i.autoportal.com/i/828282.gif    9.8 km/liter   \n",
       "88  diesel  https://i.autoportal.com/i/828282.gif  15.97 km/liter   \n",
       "89  diesel  https://i.autoportal.com/i/828282.gif  12.83 km/liter   \n",
       "90  diesel  https://i.autoportal.com/i/828282.gif   11.6 km/liter   \n",
       "\n",
       "                   model                        name                power  \\\n",
       "83            Kinetic D4                   Volvo S60        181ps@4250rpm   \n",
       "84      LP700-4 Roadster       Lamborghini Aventador     700 ps @ 8250rpm   \n",
       "85                   V12      Ferrari F12 Berlinetta        741ps@8250rpm   \n",
       "86         200 Edition E       Mercedes-Benz E-Class        184ps@5500rpm   \n",
       "87             Sportback                    Audi RS7  560bhp@5700-6600rpm   \n",
       "88  xDrive30d Expedition                      BMW X5        258ps@4000rpm   \n",
       "89                     S  Land Rover Discovery Sport        150ps@4000rpm   \n",
       "90               3.0 HSE      Land Rover Range Rover        182ps@4000rpm   \n",
       "\n",
       "         price rating  \n",
       "83  30.89 Lakh   3.75  \n",
       "84     5.62 Cr   4.00  \n",
       "85     4.72 Cr   4.00  \n",
       "86  48.50 Lakh   3.75  \n",
       "87     1.40 Cr   3.75  \n",
       "88  67.90 Lakh   3.75  \n",
       "89  46.10 Lakh   4.00  \n",
       "90     1.83 Cr   3.75  "
      ]
     },
     "execution_count": 10,
     "metadata": {},
     "output_type": "execute_result"
    }
   ],
   "source": [
    "cars.head(4) # for viewing top 4 rows\n",
    "cars.tail()  # will by default show bottom 5 rows\n",
    "cars[83:91]  # show rows from 83 to 90 (don't include 91)"
   ]
  },
  {
   "cell_type": "code",
   "execution_count": 11,
   "metadata": {
    "collapsed": false
   },
   "outputs": [
    {
     "data": {
      "text/html": [
       "<div>\n",
       "<table border=\"1\" class=\"dataframe\">\n",
       "  <thead>\n",
       "    <tr style=\"text-align: right;\">\n",
       "      <th></th>\n",
       "      <th>fuel</th>\n",
       "      <th>mileage</th>\n",
       "      <th>model</th>\n",
       "      <th>name</th>\n",
       "      <th>power</th>\n",
       "      <th>price</th>\n",
       "      <th>rating</th>\n",
       "    </tr>\n",
       "  </thead>\n",
       "  <tbody>\n",
       "    <tr>\n",
       "      <th>50</th>\n",
       "      <td>diesel</td>\n",
       "      <td>23.26 km/liter</td>\n",
       "      <td>118d Sport Line</td>\n",
       "      <td>BMW 1 Series</td>\n",
       "      <td>149ps@4000rpm</td>\n",
       "      <td>29.90 Lakh</td>\n",
       "      <td>3.75</td>\n",
       "    </tr>\n",
       "    <tr>\n",
       "      <th>51</th>\n",
       "      <td>electric</td>\n",
       "      <td>NaN</td>\n",
       "      <td>D2</td>\n",
       "      <td>Mahindra E Verito</td>\n",
       "      <td>41ps@3500rpm</td>\n",
       "      <td>9.50 Lakh</td>\n",
       "      <td></td>\n",
       "    </tr>\n",
       "    <tr>\n",
       "      <th>52</th>\n",
       "      <td>petrol</td>\n",
       "      <td>8.6 km/liter</td>\n",
       "      <td>Coupe</td>\n",
       "      <td>Bentley Continental GT</td>\n",
       "      <td>590ps@6000rpm</td>\n",
       "      <td>3.57 Cr</td>\n",
       "      <td>4.25</td>\n",
       "    </tr>\n",
       "  </tbody>\n",
       "</table>\n",
       "</div>"
      ],
      "text/plain": [
       "        fuel         mileage            model                    name  \\\n",
       "50    diesel  23.26 km/liter  118d Sport Line            BMW 1 Series   \n",
       "51  electric             NaN               D2       Mahindra E Verito   \n",
       "52    petrol    8.6 km/liter            Coupe  Bentley Continental GT   \n",
       "\n",
       "            power       price rating  \n",
       "50  149ps@4000rpm  29.90 Lakh   3.75  \n",
       "51   41ps@3500rpm   9.50 Lakh         \n",
       "52  590ps@6000rpm     3.57 Cr   4.25  "
      ]
     },
     "execution_count": 11,
     "metadata": {},
     "output_type": "execute_result"
    }
   ],
   "source": [
    "# You can select specific columns you want like so...\n",
    "cars[['fuel', 'mileage', 'model', 'name', 'power', 'price','rating']][50:53]"
   ]
  },
  {
   "cell_type": "code",
   "execution_count": 12,
   "metadata": {
    "collapsed": false
   },
   "outputs": [
    {
     "data": {
      "text/plain": [
       "112ps@6300rpm          3\n",
       "190ps@4000rpm          3\n",
       "560bhp@5700-6600rpm    2\n",
       "105ps@5000rpm          2\n",
       "68ps@6000rpm           2\n",
       "122ps@5000rpm          2\n",
       "575bhp@6000-6500rpm    2\n",
       "177ps@4200rpm          2\n",
       "68ps@6200rpm           2\n",
       "90ps@6000rpm           2\n",
       "83ps@6000rpm           2\n",
       "110ps@4000rpm          2\n",
       "184ps@5500rpm          1\n",
       "123ps@6400rpm          1\n",
       "225bhp@4250 rpm        1\n",
       "571ps@5250-6000        1\n",
       "150ps@4000rpm          1\n",
       "143ps@4000rpm          1\n",
       "204bhp@3800rpm         1\n",
       "181ps@4250rpm          1\n",
       "510ps@6250rpm          1\n",
       "136ps@3600-4400rpm     1\n",
       "245ps@4000-5000rpm     1\n",
       "143ps@3500rpm          1\n",
       "231bhp@5800rpm         1\n",
       "92.5ps@6000rpm         1\n",
       "140ps@3500rpm          1\n",
       "173ps@3750rpm          1\n",
       "190ps@4200-6200rpm     1\n",
       "300.34ps@ 4000rpm      1\n",
       "                      ..\n",
       "573ps@6750rpm          1\n",
       "431ps@5500-7300rpm     1\n",
       "450ps@7000rpm          1\n",
       "75ps@6000rpm           1\n",
       "741ps@8250rpm          1\n",
       "313bhp@4400rpm         1\n",
       "87ps@6000rpm           1\n",
       "258 ps @3600rpm        1\n",
       "140ps@4200rpm          1\n",
       "123ps@6300rpm          1\n",
       "165ps@3500rpm          1\n",
       "230ps@4500-6200rmp     1\n",
       "431ps@ 5500-7300       1\n",
       "560ps@7500rpm          1\n",
       "560ps@6000-7000rpm     1\n",
       "90ps@4000pm            1\n",
       "180ps@5700rpm          1\n",
       "119 ps@ 6600 rpm       1\n",
       "507ps@6000rpm          1\n",
       "171ps@3600rpm          1\n",
       "101ps@5600rpm          1\n",
       "181ps@6000rpm          1\n",
       "610ps@8250rpm          1\n",
       "150ps@5000-6000rpm     1\n",
       "190ps@ 4000rpm         1\n",
       "84ps@6000rpm           1\n",
       "340 ps @6500rpm        1\n",
       "670ps@8000rpm          1\n",
       "38ps@5500rpm           1\n",
       "605ps@9000rpm          1\n",
       "Name: power, dtype: int64"
      ]
     },
     "execution_count": 12,
     "metadata": {},
     "output_type": "execute_result"
    }
   ],
   "source": [
    "# you can make conditional selection just like you did for Series like so...\n",
    "# pd.to_numeric(cars['rating'])\n",
    "cars['power'].value_counts()"
   ]
  },
  {
   "cell_type": "markdown",
   "metadata": {},
   "source": [
    "## _____________________________________________"
   ]
  },
  {
   "cell_type": "code",
   "execution_count": 13,
   "metadata": {
    "collapsed": false
   },
   "outputs": [],
   "source": [
    "# lets create a list of all car brand names with long names\n",
    "long_names = ['Range Rover', 'Austin Martin', 'Maruti Suzuki']\n",
    "\n",
    "# From the long brand names, only take the 1st names and put it in a new array\n",
    "def breakme(item): return item.split(' ')[0]\n",
    "brand_first_names = list(map(breakme, long_names))"
   ]
  },
  {
   "cell_type": "code",
   "execution_count": 14,
   "metadata": {
    "collapsed": false
   },
   "outputs": [],
   "source": [
    "def get_brand_name(row):\n",
    "    full_name = row.split('\\xa0km/')[0].lower().split(' ')\n",
    "    if full_name[0] in brand_first_names:\n",
    "        return (full_name[0] +\" \"+ full_name[1], ' '.join(full_name[2:]), )\n",
    "    else:\n",
    "        return (full_name[0], ' '.join(full_name[1:]), )\n",
    "    \n",
    "def get_model_name(row):\n",
    "    if row.split(' ')[0] in brand_first_names:\n",
    "        temp = row.split(' ')\n",
    "        return temp[2:]\n",
    "    else:\n",
    "        return ' '.join(row.split(' ')[1:])\n",
    "    \n",
    "def get_rpm(row):\n",
    "    row = row.strip('rpm')\n",
    "    split = row.split(\"@\")\n",
    "    if len(split) > 1:\n",
    "        if \"-\" in split[1]:\n",
    "            temp = split[1].split('-')\n",
    "            return temp\n",
    "        return float(split[1])\n",
    "    else:\n",
    "        return float(split[0])\n",
    "    \n",
    "def get_mileage(row):\n",
    "    return str(row).strip('\\xa0km/liter')\n",
    "\n",
    "\n",
    "def get_price(row):\n",
    "    price = str(row).split('\\xa0')\n",
    "    if price[1].lower() in ['cr', 'crs']:\n",
    "        return float(price[0])*100\n",
    "    return float(price[0])\n",
    "\n",
    "cars['rating'].fillna(0, inplace=True)"
   ]
  },
  {
   "cell_type": "code",
   "execution_count": 15,
   "metadata": {
    "collapsed": false
   },
   "outputs": [
    {
     "ename": "ValueError",
     "evalue": "could not convert string to float: '112 ps'",
     "output_type": "error",
     "traceback": [
      "\u001b[0;31m---------------------------------------------------------------------------\u001b[0m",
      "\u001b[0;31mValueError\u001b[0m                                Traceback (most recent call last)",
      "\u001b[0;32m<ipython-input-15-0edf3cae5103>\u001b[0m in \u001b[0;36m<module>\u001b[0;34m()\u001b[0m\n\u001b[0;32m----> 1\u001b[0;31m \u001b[0mcars\u001b[0m\u001b[0;34m[\u001b[0m\u001b[0;34m'rpm'\u001b[0m\u001b[0;34m]\u001b[0m \u001b[0;34m=\u001b[0m \u001b[0mcars\u001b[0m\u001b[0;34m[\u001b[0m\u001b[0;34m'power'\u001b[0m\u001b[0;34m]\u001b[0m\u001b[0;34m.\u001b[0m\u001b[0mapply\u001b[0m\u001b[0;34m(\u001b[0m\u001b[0;32mlambda\u001b[0m \u001b[0mrow\u001b[0m\u001b[0;34m:\u001b[0m \u001b[0mget_rpm\u001b[0m\u001b[0;34m(\u001b[0m\u001b[0mrow\u001b[0m\u001b[0;34m)\u001b[0m\u001b[0;34m)\u001b[0m\u001b[0;34m\u001b[0m\u001b[0m\n\u001b[0m",
      "\u001b[0;32m/home/vivek/anaconda3/lib/python3.5/site-packages/pandas/core/series.py\u001b[0m in \u001b[0;36mapply\u001b[0;34m(self, func, convert_dtype, args, **kwds)\u001b[0m\n\u001b[1;32m   2218\u001b[0m         \u001b[0;32melse\u001b[0m\u001b[0;34m:\u001b[0m\u001b[0;34m\u001b[0m\u001b[0m\n\u001b[1;32m   2219\u001b[0m             \u001b[0mvalues\u001b[0m \u001b[0;34m=\u001b[0m \u001b[0mself\u001b[0m\u001b[0;34m.\u001b[0m\u001b[0masobject\u001b[0m\u001b[0;34m\u001b[0m\u001b[0m\n\u001b[0;32m-> 2220\u001b[0;31m             \u001b[0mmapped\u001b[0m \u001b[0;34m=\u001b[0m \u001b[0mlib\u001b[0m\u001b[0;34m.\u001b[0m\u001b[0mmap_infer\u001b[0m\u001b[0;34m(\u001b[0m\u001b[0mvalues\u001b[0m\u001b[0;34m,\u001b[0m \u001b[0mf\u001b[0m\u001b[0;34m,\u001b[0m \u001b[0mconvert\u001b[0m\u001b[0;34m=\u001b[0m\u001b[0mconvert_dtype\u001b[0m\u001b[0;34m)\u001b[0m\u001b[0;34m\u001b[0m\u001b[0m\n\u001b[0m\u001b[1;32m   2221\u001b[0m \u001b[0;34m\u001b[0m\u001b[0m\n\u001b[1;32m   2222\u001b[0m         \u001b[0;32mif\u001b[0m \u001b[0mlen\u001b[0m\u001b[0;34m(\u001b[0m\u001b[0mmapped\u001b[0m\u001b[0;34m)\u001b[0m \u001b[0;32mand\u001b[0m \u001b[0misinstance\u001b[0m\u001b[0;34m(\u001b[0m\u001b[0mmapped\u001b[0m\u001b[0;34m[\u001b[0m\u001b[0;36m0\u001b[0m\u001b[0;34m]\u001b[0m\u001b[0;34m,\u001b[0m \u001b[0mSeries\u001b[0m\u001b[0;34m)\u001b[0m\u001b[0;34m:\u001b[0m\u001b[0;34m\u001b[0m\u001b[0m\n",
      "\u001b[0;32mpandas/src/inference.pyx\u001b[0m in \u001b[0;36mpandas.lib.map_infer (pandas/lib.c:62658)\u001b[0;34m()\u001b[0m\n",
      "\u001b[0;32m<ipython-input-15-0edf3cae5103>\u001b[0m in \u001b[0;36m<lambda>\u001b[0;34m(row)\u001b[0m\n\u001b[0;32m----> 1\u001b[0;31m \u001b[0mcars\u001b[0m\u001b[0;34m[\u001b[0m\u001b[0;34m'rpm'\u001b[0m\u001b[0;34m]\u001b[0m \u001b[0;34m=\u001b[0m \u001b[0mcars\u001b[0m\u001b[0;34m[\u001b[0m\u001b[0;34m'power'\u001b[0m\u001b[0;34m]\u001b[0m\u001b[0;34m.\u001b[0m\u001b[0mapply\u001b[0m\u001b[0;34m(\u001b[0m\u001b[0;32mlambda\u001b[0m \u001b[0mrow\u001b[0m\u001b[0;34m:\u001b[0m \u001b[0mget_rpm\u001b[0m\u001b[0;34m(\u001b[0m\u001b[0mrow\u001b[0m\u001b[0;34m)\u001b[0m\u001b[0;34m)\u001b[0m\u001b[0;34m\u001b[0m\u001b[0m\n\u001b[0m",
      "\u001b[0;32m<ipython-input-14-cd005818ba38>\u001b[0m in \u001b[0;36mget_rpm\u001b[0;34m(row)\u001b[0m\n\u001b[1;32m     22\u001b[0m         \u001b[0;32mreturn\u001b[0m \u001b[0mfloat\u001b[0m\u001b[0;34m(\u001b[0m\u001b[0msplit\u001b[0m\u001b[0;34m[\u001b[0m\u001b[0;36m1\u001b[0m\u001b[0;34m]\u001b[0m\u001b[0;34m)\u001b[0m\u001b[0;34m\u001b[0m\u001b[0m\n\u001b[1;32m     23\u001b[0m     \u001b[0;32melse\u001b[0m\u001b[0;34m:\u001b[0m\u001b[0;34m\u001b[0m\u001b[0m\n\u001b[0;32m---> 24\u001b[0;31m         \u001b[0;32mreturn\u001b[0m \u001b[0mfloat\u001b[0m\u001b[0;34m(\u001b[0m\u001b[0msplit\u001b[0m\u001b[0;34m[\u001b[0m\u001b[0;36m0\u001b[0m\u001b[0;34m]\u001b[0m\u001b[0;34m)\u001b[0m\u001b[0;34m\u001b[0m\u001b[0m\n\u001b[0m\u001b[1;32m     25\u001b[0m \u001b[0;34m\u001b[0m\u001b[0m\n\u001b[1;32m     26\u001b[0m \u001b[0;32mdef\u001b[0m \u001b[0mget_mileage\u001b[0m\u001b[0;34m(\u001b[0m\u001b[0mrow\u001b[0m\u001b[0;34m)\u001b[0m\u001b[0;34m:\u001b[0m\u001b[0;34m\u001b[0m\u001b[0m\n",
      "\u001b[0;31mValueError\u001b[0m: could not convert string to float: '112 ps'"
     ]
    }
   ],
   "source": [
    "cars['rpm'] = cars['power'].apply(lambda row: get_rpm(row))"
   ]
  },
  {
   "cell_type": "code",
   "execution_count": null,
   "metadata": {
    "collapsed": false
   },
   "outputs": [],
   "source": [
    "cars['brand'] = cars['name'].apply(lambda row: get_brand_name(row)[0])\n",
    "cars['model'] = cars['name'].apply(lambda row: get_brand_name(row)[1])"
   ]
  },
  {
   "cell_type": "code",
   "execution_count": null,
   "metadata": {
    "collapsed": false
   },
   "outputs": [],
   "source": [
    "cars['km_per_liter'] = cars['mileage'].apply(lambda row: get_mileage(row))"
   ]
  },
  {
   "cell_type": "code",
   "execution_count": null,
   "metadata": {
    "collapsed": false
   },
   "outputs": [],
   "source": [
    "cars['price_num'] = cars['price'].apply(lambda row: get_price(row))"
   ]
  },
  {
   "cell_type": "code",
   "execution_count": null,
   "metadata": {
    "collapsed": false
   },
   "outputs": [],
   "source": [
    "cars = cars[['brand', 'model', 'price_num', 'rating', 'km_per_liter', 'fuel', 'rpm']]"
   ]
  },
  {
   "cell_type": "markdown",
   "metadata": {},
   "source": [
    "## Indexing"
   ]
  },
  {
   "cell_type": "code",
   "execution_count": null,
   "metadata": {
    "collapsed": false
   },
   "outputs": [],
   "source": [
    "cars.head()"
   ]
  },
  {
   "cell_type": "code",
   "execution_count": null,
   "metadata": {
    "collapsed": false
   },
   "outputs": [],
   "source": [
    "# cars['brand'].value_counts()\n",
    "# cars.set_index(['brand', 'model'])\n",
    "# cars['rating'] = cars['rating'].astype(float)\n",
    "# cars.groupby(['brand', 'model']).mean()"
   ]
  },
  {
   "cell_type": "code",
   "execution_count": null,
   "metadata": {
    "collapsed": false
   },
   "outputs": [],
   "source": [
    "cars.groupby(['fuel']).mean()"
   ]
  },
  {
   "cell_type": "code",
   "execution_count": 20,
   "metadata": {
    "collapsed": false
   },
   "outputs": [
    {
     "data": {
      "text/plain": [
       "<pandas.core.indexing._IXIndexer at 0x7f97b470d2b0>"
      ]
     },
     "execution_count": 20,
     "metadata": {},
     "output_type": "execute_result"
    }
   ],
   "source": [
    "cars.set_index('fuel')\n",
    "cars.ix('petrol')"
   ]
  },
  {
   "cell_type": "code",
   "execution_count": null,
   "metadata": {
    "collapsed": true
   },
   "outputs": [],
   "source": []
  }
 ],
 "metadata": {
  "anaconda-cloud": {},
  "kernelspec": {
   "display_name": "Python [conda root]",
   "language": "python",
   "name": "conda-root-py"
  },
  "language_info": {
   "codemirror_mode": {
    "name": "ipython",
    "version": 2
   },
   "file_extension": ".py",
   "mimetype": "text/x-python",
   "name": "python",
   "nbconvert_exporter": "python",
   "pygments_lexer": "ipython2",
   "version": "2.7.12"
  }
 },
 "nbformat": 4,
 "nbformat_minor": 0
}
