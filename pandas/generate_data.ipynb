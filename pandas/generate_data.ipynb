{
 "cells": [
  {
   "cell_type": "markdown",
   "metadata": {},
   "source": [
    "# Generating DataFrames and Series\n",
    "\n",
    "Creates random dataframes and series for exploration purposes like exporting into csv. These dataframes and series contain variety of datatypes for multiple scenarois"
   ]
  },
  {
   "cell_type": "code",
   "execution_count": 12,
   "metadata": {
    "collapsed": false
   },
   "outputs": [],
   "source": [
    "from pandas import *\n",
    "from numpy import *"
   ]
  },
  {
   "cell_type": "markdown",
   "metadata": {},
   "source": [
    "## Creates a dataframe with random values as follows\n",
    "- a : random float values\n",
    "- b : text values with values **\"foo\"** and **\"bar\"**\n",
    "- c : random float values\n",
    "- d : int values\n",
    "- f : boolean values"
   ]
  },
  {
   "cell_type": "code",
   "execution_count": 36,
   "metadata": {
    "collapsed": false
   },
   "outputs": [],
   "source": [
    "df = DataFrame({\n",
    "  \"a\": around(random.randn(12), 2),\n",
    "  \"b\": [\"foo\", \"bar\"] * 6,\n",
    "  \"c\": around(random.randn(12), 4)\n",
    "})\n",
    "\n",
    "# Let us add one more column\n",
    "df['d'] = range(1, 13)\n",
    "df['f'] = [True, False, True] * 4"
   ]
  },
  {
   "cell_type": "code",
   "execution_count": 37,
   "metadata": {
    "collapsed": false
   },
   "outputs": [
    {
     "data": {
      "text/html": [
       "<div>\n",
       "<table border=\"1\" class=\"dataframe\">\n",
       "  <thead>\n",
       "    <tr style=\"text-align: right;\">\n",
       "      <th></th>\n",
       "      <th>a</th>\n",
       "      <th>b</th>\n",
       "      <th>c</th>\n",
       "      <th>d</th>\n",
       "      <th>f</th>\n",
       "    </tr>\n",
       "  </thead>\n",
       "  <tbody>\n",
       "    <tr>\n",
       "      <th>0</th>\n",
       "      <td>0.18</td>\n",
       "      <td>foo</td>\n",
       "      <td>-0.9422</td>\n",
       "      <td>1</td>\n",
       "      <td>True</td>\n",
       "    </tr>\n",
       "    <tr>\n",
       "      <th>1</th>\n",
       "      <td>-0.33</td>\n",
       "      <td>bar</td>\n",
       "      <td>0.0385</td>\n",
       "      <td>2</td>\n",
       "      <td>False</td>\n",
       "    </tr>\n",
       "    <tr>\n",
       "      <th>2</th>\n",
       "      <td>-1.18</td>\n",
       "      <td>foo</td>\n",
       "      <td>-0.5441</td>\n",
       "      <td>3</td>\n",
       "      <td>True</td>\n",
       "    </tr>\n",
       "    <tr>\n",
       "      <th>3</th>\n",
       "      <td>0.65</td>\n",
       "      <td>bar</td>\n",
       "      <td>1.3831</td>\n",
       "      <td>4</td>\n",
       "      <td>True</td>\n",
       "    </tr>\n",
       "    <tr>\n",
       "      <th>4</th>\n",
       "      <td>-1.63</td>\n",
       "      <td>foo</td>\n",
       "      <td>-0.9134</td>\n",
       "      <td>5</td>\n",
       "      <td>False</td>\n",
       "    </tr>\n",
       "    <tr>\n",
       "      <th>5</th>\n",
       "      <td>-0.07</td>\n",
       "      <td>bar</td>\n",
       "      <td>-0.5105</td>\n",
       "      <td>6</td>\n",
       "      <td>True</td>\n",
       "    </tr>\n",
       "    <tr>\n",
       "      <th>6</th>\n",
       "      <td>-0.99</td>\n",
       "      <td>foo</td>\n",
       "      <td>0.8495</td>\n",
       "      <td>7</td>\n",
       "      <td>True</td>\n",
       "    </tr>\n",
       "    <tr>\n",
       "      <th>7</th>\n",
       "      <td>-2.64</td>\n",
       "      <td>bar</td>\n",
       "      <td>0.9027</td>\n",
       "      <td>8</td>\n",
       "      <td>False</td>\n",
       "    </tr>\n",
       "    <tr>\n",
       "      <th>8</th>\n",
       "      <td>1.01</td>\n",
       "      <td>foo</td>\n",
       "      <td>-1.0634</td>\n",
       "      <td>9</td>\n",
       "      <td>True</td>\n",
       "    </tr>\n",
       "    <tr>\n",
       "      <th>9</th>\n",
       "      <td>0.19</td>\n",
       "      <td>bar</td>\n",
       "      <td>-2.2450</td>\n",
       "      <td>10</td>\n",
       "      <td>True</td>\n",
       "    </tr>\n",
       "    <tr>\n",
       "      <th>10</th>\n",
       "      <td>0.45</td>\n",
       "      <td>foo</td>\n",
       "      <td>-1.6609</td>\n",
       "      <td>11</td>\n",
       "      <td>False</td>\n",
       "    </tr>\n",
       "    <tr>\n",
       "      <th>11</th>\n",
       "      <td>0.63</td>\n",
       "      <td>bar</td>\n",
       "      <td>-2.4412</td>\n",
       "      <td>12</td>\n",
       "      <td>True</td>\n",
       "    </tr>\n",
       "  </tbody>\n",
       "</table>\n",
       "</div>"
      ],
      "text/plain": [
       "       a    b       c   d      f\n",
       "0   0.18  foo -0.9422   1   True\n",
       "1  -0.33  bar  0.0385   2  False\n",
       "2  -1.18  foo -0.5441   3   True\n",
       "3   0.65  bar  1.3831   4   True\n",
       "4  -1.63  foo -0.9134   5  False\n",
       "5  -0.07  bar -0.5105   6   True\n",
       "6  -0.99  foo  0.8495   7   True\n",
       "7  -2.64  bar  0.9027   8  False\n",
       "8   1.01  foo -1.0634   9   True\n",
       "9   0.19  bar -2.2450  10   True\n",
       "10  0.45  foo -1.6609  11  False\n",
       "11  0.63  bar -2.4412  12   True"
      ]
     },
     "execution_count": 37,
     "metadata": {},
     "output_type": "execute_result"
    }
   ],
   "source": [
    "df"
   ]
  },
  {
   "cell_type": "markdown",
   "metadata": {},
   "source": [
    "## Save as csv\n",
    "- Make sure to exclude the headers when saving as csv if you were to import it into a mysql already existing table.\n",
    "- Also remove the index column, or else mysql will consider that as a column."
   ]
  },
  {
   "cell_type": "code",
   "execution_count": 41,
   "metadata": {
    "collapsed": false
   },
   "outputs": [],
   "source": [
    "df.to_csv(\"random_data.csv\", sep=\",\", index=False, header=False)"
   ]
  },
  {
   "cell_type": "code",
   "execution_count": null,
   "metadata": {
    "collapsed": true
   },
   "outputs": [],
   "source": []
  }
 ],
 "metadata": {
  "kernelspec": {
   "display_name": "Python [default]",
   "language": "python",
   "name": "python2"
  },
  "language_info": {
   "codemirror_mode": {
    "name": "ipython",
    "version": 2
   },
   "file_extension": ".py",
   "mimetype": "text/x-python",
   "name": "python",
   "nbconvert_exporter": "python",
   "pygments_lexer": "ipython2",
   "version": "2.7.12"
  }
 },
 "nbformat": 4,
 "nbformat_minor": 1
}
